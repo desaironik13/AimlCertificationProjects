{
 "cells": [
  {
   "cell_type": "code",
   "execution_count": 1531,
   "metadata": {},
   "outputs": [],
   "source": [
    "import warnings\n",
    "warnings.filterwarnings('ignore')"
   ]
  },
  {
   "cell_type": "code",
   "execution_count": 1532,
   "metadata": {},
   "outputs": [],
   "source": [
    "#let us start by importing the relevant libraries\n",
    "%matplotlib inline\n",
    "import numpy as np\n",
    "import pandas as pd\n",
    "import matplotlib.pyplot as plt\n",
    "import seaborn as sns"
   ]
  },
  {
   "cell_type": "code",
   "execution_count": 1533,
   "metadata": {},
   "outputs": [],
   "source": [
    "#Read CSV\n",
    "cccd = pd.read_csv(\"CreditCardCustomerData.csv\")\n",
    "pd.set_option('use_inf_as_na', True)"
   ]
  },
  {
   "cell_type": "code",
   "execution_count": 1534,
   "metadata": {},
   "outputs": [
    {
     "data": {
      "text/html": [
       "<div>\n",
       "<style scoped>\n",
       "    .dataframe tbody tr th:only-of-type {\n",
       "        vertical-align: middle;\n",
       "    }\n",
       "\n",
       "    .dataframe tbody tr th {\n",
       "        vertical-align: top;\n",
       "    }\n",
       "\n",
       "    .dataframe thead th {\n",
       "        text-align: right;\n",
       "    }\n",
       "</style>\n",
       "<table border=\"1\" class=\"dataframe\">\n",
       "  <thead>\n",
       "    <tr style=\"text-align: right;\">\n",
       "      <th></th>\n",
       "      <th>Sl_No</th>\n",
       "      <th>Customer Key</th>\n",
       "      <th>Avg_Credit_Limit</th>\n",
       "      <th>Total_Credit_Cards</th>\n",
       "      <th>Total_visits_bank</th>\n",
       "      <th>Total_visits_online</th>\n",
       "      <th>Total_calls_made</th>\n",
       "    </tr>\n",
       "  </thead>\n",
       "  <tbody>\n",
       "    <tr>\n",
       "      <th>0</th>\n",
       "      <td>1</td>\n",
       "      <td>87073</td>\n",
       "      <td>100000</td>\n",
       "      <td>2</td>\n",
       "      <td>1</td>\n",
       "      <td>1</td>\n",
       "      <td>0</td>\n",
       "    </tr>\n",
       "    <tr>\n",
       "      <th>1</th>\n",
       "      <td>2</td>\n",
       "      <td>38414</td>\n",
       "      <td>50000</td>\n",
       "      <td>3</td>\n",
       "      <td>0</td>\n",
       "      <td>10</td>\n",
       "      <td>9</td>\n",
       "    </tr>\n",
       "    <tr>\n",
       "      <th>2</th>\n",
       "      <td>3</td>\n",
       "      <td>17341</td>\n",
       "      <td>50000</td>\n",
       "      <td>7</td>\n",
       "      <td>1</td>\n",
       "      <td>3</td>\n",
       "      <td>4</td>\n",
       "    </tr>\n",
       "    <tr>\n",
       "      <th>3</th>\n",
       "      <td>4</td>\n",
       "      <td>40496</td>\n",
       "      <td>30000</td>\n",
       "      <td>5</td>\n",
       "      <td>1</td>\n",
       "      <td>1</td>\n",
       "      <td>4</td>\n",
       "    </tr>\n",
       "    <tr>\n",
       "      <th>4</th>\n",
       "      <td>5</td>\n",
       "      <td>47437</td>\n",
       "      <td>100000</td>\n",
       "      <td>6</td>\n",
       "      <td>0</td>\n",
       "      <td>12</td>\n",
       "      <td>3</td>\n",
       "    </tr>\n",
       "  </tbody>\n",
       "</table>\n",
       "</div>"
      ],
      "text/plain": [
       "   Sl_No  Customer Key  Avg_Credit_Limit  Total_Credit_Cards  \\\n",
       "0      1         87073            100000                   2   \n",
       "1      2         38414             50000                   3   \n",
       "2      3         17341             50000                   7   \n",
       "3      4         40496             30000                   5   \n",
       "4      5         47437            100000                   6   \n",
       "\n",
       "   Total_visits_bank  Total_visits_online  Total_calls_made  \n",
       "0                  1                    1                 0  \n",
       "1                  0                   10                 9  \n",
       "2                  1                    3                 4  \n",
       "3                  1                    1                 4  \n",
       "4                  0                   12                 3  "
      ]
     },
     "execution_count": 1534,
     "metadata": {},
     "output_type": "execute_result"
    }
   ],
   "source": [
    "cccd.head()"
   ]
  },
  {
   "cell_type": "code",
   "execution_count": 1535,
   "metadata": {},
   "outputs": [
    {
     "data": {
      "text/html": [
       "<div>\n",
       "<style scoped>\n",
       "    .dataframe tbody tr th:only-of-type {\n",
       "        vertical-align: middle;\n",
       "    }\n",
       "\n",
       "    .dataframe tbody tr th {\n",
       "        vertical-align: top;\n",
       "    }\n",
       "\n",
       "    .dataframe thead th {\n",
       "        text-align: right;\n",
       "    }\n",
       "</style>\n",
       "<table border=\"1\" class=\"dataframe\">\n",
       "  <thead>\n",
       "    <tr style=\"text-align: right;\">\n",
       "      <th></th>\n",
       "      <th>Sl_No</th>\n",
       "      <th>Customer Key</th>\n",
       "      <th>Avg_Credit_Limit</th>\n",
       "      <th>Total_Credit_Cards</th>\n",
       "      <th>Total_visits_bank</th>\n",
       "      <th>Total_visits_online</th>\n",
       "      <th>Total_calls_made</th>\n",
       "    </tr>\n",
       "  </thead>\n",
       "  <tbody>\n",
       "    <tr>\n",
       "      <th>count</th>\n",
       "      <td>660.000000</td>\n",
       "      <td>660.000000</td>\n",
       "      <td>660.000000</td>\n",
       "      <td>660.000000</td>\n",
       "      <td>660.000000</td>\n",
       "      <td>660.000000</td>\n",
       "      <td>660.000000</td>\n",
       "    </tr>\n",
       "    <tr>\n",
       "      <th>mean</th>\n",
       "      <td>330.500000</td>\n",
       "      <td>55141.443939</td>\n",
       "      <td>34574.242424</td>\n",
       "      <td>4.706061</td>\n",
       "      <td>2.403030</td>\n",
       "      <td>2.606061</td>\n",
       "      <td>3.583333</td>\n",
       "    </tr>\n",
       "    <tr>\n",
       "      <th>std</th>\n",
       "      <td>190.669872</td>\n",
       "      <td>25627.772200</td>\n",
       "      <td>37625.487804</td>\n",
       "      <td>2.167835</td>\n",
       "      <td>1.631813</td>\n",
       "      <td>2.935724</td>\n",
       "      <td>2.865317</td>\n",
       "    </tr>\n",
       "    <tr>\n",
       "      <th>min</th>\n",
       "      <td>1.000000</td>\n",
       "      <td>11265.000000</td>\n",
       "      <td>3000.000000</td>\n",
       "      <td>1.000000</td>\n",
       "      <td>0.000000</td>\n",
       "      <td>0.000000</td>\n",
       "      <td>0.000000</td>\n",
       "    </tr>\n",
       "    <tr>\n",
       "      <th>25%</th>\n",
       "      <td>165.750000</td>\n",
       "      <td>33825.250000</td>\n",
       "      <td>10000.000000</td>\n",
       "      <td>3.000000</td>\n",
       "      <td>1.000000</td>\n",
       "      <td>1.000000</td>\n",
       "      <td>1.000000</td>\n",
       "    </tr>\n",
       "    <tr>\n",
       "      <th>50%</th>\n",
       "      <td>330.500000</td>\n",
       "      <td>53874.500000</td>\n",
       "      <td>18000.000000</td>\n",
       "      <td>5.000000</td>\n",
       "      <td>2.000000</td>\n",
       "      <td>2.000000</td>\n",
       "      <td>3.000000</td>\n",
       "    </tr>\n",
       "    <tr>\n",
       "      <th>75%</th>\n",
       "      <td>495.250000</td>\n",
       "      <td>77202.500000</td>\n",
       "      <td>48000.000000</td>\n",
       "      <td>6.000000</td>\n",
       "      <td>4.000000</td>\n",
       "      <td>4.000000</td>\n",
       "      <td>5.000000</td>\n",
       "    </tr>\n",
       "    <tr>\n",
       "      <th>max</th>\n",
       "      <td>660.000000</td>\n",
       "      <td>99843.000000</td>\n",
       "      <td>200000.000000</td>\n",
       "      <td>10.000000</td>\n",
       "      <td>5.000000</td>\n",
       "      <td>15.000000</td>\n",
       "      <td>10.000000</td>\n",
       "    </tr>\n",
       "  </tbody>\n",
       "</table>\n",
       "</div>"
      ],
      "text/plain": [
       "            Sl_No  Customer Key  Avg_Credit_Limit  Total_Credit_Cards  \\\n",
       "count  660.000000    660.000000        660.000000          660.000000   \n",
       "mean   330.500000  55141.443939      34574.242424            4.706061   \n",
       "std    190.669872  25627.772200      37625.487804            2.167835   \n",
       "min      1.000000  11265.000000       3000.000000            1.000000   \n",
       "25%    165.750000  33825.250000      10000.000000            3.000000   \n",
       "50%    330.500000  53874.500000      18000.000000            5.000000   \n",
       "75%    495.250000  77202.500000      48000.000000            6.000000   \n",
       "max    660.000000  99843.000000     200000.000000           10.000000   \n",
       "\n",
       "       Total_visits_bank  Total_visits_online  Total_calls_made  \n",
       "count         660.000000           660.000000        660.000000  \n",
       "mean            2.403030             2.606061          3.583333  \n",
       "std             1.631813             2.935724          2.865317  \n",
       "min             0.000000             0.000000          0.000000  \n",
       "25%             1.000000             1.000000          1.000000  \n",
       "50%             2.000000             2.000000          3.000000  \n",
       "75%             4.000000             4.000000          5.000000  \n",
       "max             5.000000            15.000000         10.000000  "
      ]
     },
     "execution_count": 1535,
     "metadata": {},
     "output_type": "execute_result"
    }
   ],
   "source": [
    "cccd.describe()"
   ]
  },
  {
   "cell_type": "code",
   "execution_count": 1536,
   "metadata": {},
   "outputs": [],
   "source": [
    "#It seeme SI_No and Customer Key is always going to be unique we can delete them"
   ]
  },
  {
   "cell_type": "code",
   "execution_count": 1537,
   "metadata": {},
   "outputs": [
    {
     "data": {
      "text/html": [
       "<div>\n",
       "<style scoped>\n",
       "    .dataframe tbody tr th:only-of-type {\n",
       "        vertical-align: middle;\n",
       "    }\n",
       "\n",
       "    .dataframe tbody tr th {\n",
       "        vertical-align: top;\n",
       "    }\n",
       "\n",
       "    .dataframe thead th {\n",
       "        text-align: right;\n",
       "    }\n",
       "</style>\n",
       "<table border=\"1\" class=\"dataframe\">\n",
       "  <thead>\n",
       "    <tr style=\"text-align: right;\">\n",
       "      <th></th>\n",
       "      <th>Sl_No</th>\n",
       "      <th>Customer Key</th>\n",
       "      <th>Avg_Credit_Limit</th>\n",
       "      <th>Total_Credit_Cards</th>\n",
       "      <th>Total_visits_bank</th>\n",
       "      <th>Total_visits_online</th>\n",
       "      <th>Total_calls_made</th>\n",
       "    </tr>\n",
       "  </thead>\n",
       "  <tbody>\n",
       "    <tr>\n",
       "      <th>Sl_No</th>\n",
       "      <td>1.000000</td>\n",
       "      <td>0.052886</td>\n",
       "      <td>0.677962</td>\n",
       "      <td>0.739329</td>\n",
       "      <td>0.406438</td>\n",
       "      <td>0.033916</td>\n",
       "      <td>-0.684125</td>\n",
       "    </tr>\n",
       "    <tr>\n",
       "      <th>Customer Key</th>\n",
       "      <td>0.052886</td>\n",
       "      <td>1.000000</td>\n",
       "      <td>0.068604</td>\n",
       "      <td>-0.010281</td>\n",
       "      <td>-0.000560</td>\n",
       "      <td>0.022506</td>\n",
       "      <td>0.005968</td>\n",
       "    </tr>\n",
       "    <tr>\n",
       "      <th>Avg_Credit_Limit</th>\n",
       "      <td>0.677962</td>\n",
       "      <td>0.068604</td>\n",
       "      <td>1.000000</td>\n",
       "      <td>0.608860</td>\n",
       "      <td>-0.100312</td>\n",
       "      <td>0.551385</td>\n",
       "      <td>-0.414352</td>\n",
       "    </tr>\n",
       "    <tr>\n",
       "      <th>Total_Credit_Cards</th>\n",
       "      <td>0.739329</td>\n",
       "      <td>-0.010281</td>\n",
       "      <td>0.608860</td>\n",
       "      <td>1.000000</td>\n",
       "      <td>0.315796</td>\n",
       "      <td>0.167758</td>\n",
       "      <td>-0.651251</td>\n",
       "    </tr>\n",
       "    <tr>\n",
       "      <th>Total_visits_bank</th>\n",
       "      <td>0.406438</td>\n",
       "      <td>-0.000560</td>\n",
       "      <td>-0.100312</td>\n",
       "      <td>0.315796</td>\n",
       "      <td>1.000000</td>\n",
       "      <td>-0.551861</td>\n",
       "      <td>-0.506016</td>\n",
       "    </tr>\n",
       "    <tr>\n",
       "      <th>Total_visits_online</th>\n",
       "      <td>0.033916</td>\n",
       "      <td>0.022506</td>\n",
       "      <td>0.551385</td>\n",
       "      <td>0.167758</td>\n",
       "      <td>-0.551861</td>\n",
       "      <td>1.000000</td>\n",
       "      <td>0.127299</td>\n",
       "    </tr>\n",
       "    <tr>\n",
       "      <th>Total_calls_made</th>\n",
       "      <td>-0.684125</td>\n",
       "      <td>0.005968</td>\n",
       "      <td>-0.414352</td>\n",
       "      <td>-0.651251</td>\n",
       "      <td>-0.506016</td>\n",
       "      <td>0.127299</td>\n",
       "      <td>1.000000</td>\n",
       "    </tr>\n",
       "  </tbody>\n",
       "</table>\n",
       "</div>"
      ],
      "text/plain": [
       "                        Sl_No  Customer Key  Avg_Credit_Limit  \\\n",
       "Sl_No                1.000000      0.052886          0.677962   \n",
       "Customer Key         0.052886      1.000000          0.068604   \n",
       "Avg_Credit_Limit     0.677962      0.068604          1.000000   \n",
       "Total_Credit_Cards   0.739329     -0.010281          0.608860   \n",
       "Total_visits_bank    0.406438     -0.000560         -0.100312   \n",
       "Total_visits_online  0.033916      0.022506          0.551385   \n",
       "Total_calls_made    -0.684125      0.005968         -0.414352   \n",
       "\n",
       "                     Total_Credit_Cards  Total_visits_bank  \\\n",
       "Sl_No                          0.739329           0.406438   \n",
       "Customer Key                  -0.010281          -0.000560   \n",
       "Avg_Credit_Limit               0.608860          -0.100312   \n",
       "Total_Credit_Cards             1.000000           0.315796   \n",
       "Total_visits_bank              0.315796           1.000000   \n",
       "Total_visits_online            0.167758          -0.551861   \n",
       "Total_calls_made              -0.651251          -0.506016   \n",
       "\n",
       "                     Total_visits_online  Total_calls_made  \n",
       "Sl_No                           0.033916         -0.684125  \n",
       "Customer Key                    0.022506          0.005968  \n",
       "Avg_Credit_Limit                0.551385         -0.414352  \n",
       "Total_Credit_Cards              0.167758         -0.651251  \n",
       "Total_visits_bank              -0.551861         -0.506016  \n",
       "Total_visits_online             1.000000          0.127299  \n",
       "Total_calls_made                0.127299          1.000000  "
      ]
     },
     "execution_count": 1537,
     "metadata": {},
     "output_type": "execute_result"
    }
   ],
   "source": [
    "cccd.corr()"
   ]
  },
  {
   "cell_type": "code",
   "execution_count": 1538,
   "metadata": {},
   "outputs": [
    {
     "data": {
      "text/plain": [
       "(660, 7)"
      ]
     },
     "execution_count": 1538,
     "metadata": {},
     "output_type": "execute_result"
    }
   ],
   "source": [
    "cccd.shape"
   ]
  },
  {
   "cell_type": "code",
   "execution_count": 1539,
   "metadata": {},
   "outputs": [
    {
     "name": "stdout",
     "output_type": "stream",
     "text": [
      "<class 'pandas.core.frame.DataFrame'>\n",
      "RangeIndex: 660 entries, 0 to 659\n",
      "Data columns (total 7 columns):\n",
      " #   Column               Non-Null Count  Dtype\n",
      "---  ------               --------------  -----\n",
      " 0   Sl_No                660 non-null    int64\n",
      " 1   Customer Key         660 non-null    int64\n",
      " 2   Avg_Credit_Limit     660 non-null    int64\n",
      " 3   Total_Credit_Cards   660 non-null    int64\n",
      " 4   Total_visits_bank    660 non-null    int64\n",
      " 5   Total_visits_online  660 non-null    int64\n",
      " 6   Total_calls_made     660 non-null    int64\n",
      "dtypes: int64(7)\n",
      "memory usage: 36.2 KB\n"
     ]
    }
   ],
   "source": [
    "cccd.info()"
   ]
  },
  {
   "cell_type": "code",
   "execution_count": 1540,
   "metadata": {},
   "outputs": [
    {
     "data": {
      "text/plain": [
       "Sl_No                  0\n",
       "Customer Key           0\n",
       "Avg_Credit_Limit       0\n",
       "Total_Credit_Cards     0\n",
       "Total_visits_bank      0\n",
       "Total_visits_online    0\n",
       "Total_calls_made       0\n",
       "dtype: int64"
      ]
     },
     "execution_count": 1540,
     "metadata": {},
     "output_type": "execute_result"
    }
   ],
   "source": [
    "#Check for missing value \n",
    "cccd.isna().sum()"
   ]
  },
  {
   "cell_type": "code",
   "execution_count": 1541,
   "metadata": {},
   "outputs": [],
   "source": [
    "#No Null values found"
   ]
  },
  {
   "cell_type": "code",
   "execution_count": 1542,
   "metadata": {},
   "outputs": [],
   "source": [
    "#From the cccd.describe we can see that there are no negative values in the system so we should not make any change. "
   ]
  },
  {
   "cell_type": "code",
   "execution_count": 1543,
   "metadata": {},
   "outputs": [
    {
     "data": {
      "text/plain": [
       "0"
      ]
     },
     "execution_count": 1543,
     "metadata": {},
     "output_type": "execute_result"
    }
   ],
   "source": [
    "cccd.duplicated(subset=['Sl_No','Customer Key']).sum()"
   ]
  },
  {
   "cell_type": "code",
   "execution_count": 1544,
   "metadata": {},
   "outputs": [],
   "source": [
    "#From above we can safely say the values are not duplicated and are unique we can safely delete those columns. "
   ]
  },
  {
   "cell_type": "code",
   "execution_count": 1545,
   "metadata": {},
   "outputs": [],
   "source": [
    "cccd.drop(['Sl_No','Customer Key'], axis=1,inplace=True)"
   ]
  },
  {
   "cell_type": "code",
   "execution_count": 1546,
   "metadata": {},
   "outputs": [],
   "source": [
    "#Look at the pairplot \n"
   ]
  },
  {
   "cell_type": "code",
   "execution_count": 1547,
   "metadata": {},
   "outputs": [
    {
     "data": {
      "text/plain": [
       "<seaborn.axisgrid.PairGrid at 0x7faa1791a760>"
      ]
     },
     "execution_count": 1547,
     "metadata": {},
     "output_type": "execute_result"
    },
    {
     "data": {
      "image/png": "[encoded data removed]",
      "text/plain": [
       "<Figure size 900x900 with 30 Axes>"
      ]
     },
     "metadata": {
      "needs_background": "light"
     },
     "output_type": "display_data"
    }
   ],
   "source": [
    "sns.pairplot(cccd,diag_kind='kde')"
   ]
  },
  {
   "cell_type": "code",
   "execution_count": 1548,
   "metadata": {},
   "outputs": [],
   "source": [
    "#From above we can infer \n",
    "#1. There is inverse relationship between Total Call Made to Average Credit Limit\n",
    "#2. There is inverse relationship between Total calls made to Total credit cards \n",
    "#3. There is positive relationship between Average Credit Limit to Total credit cards "
   ]
  },
  {
   "cell_type": "code",
   "execution_count": 1549,
   "metadata": {},
   "outputs": [
    {
     "data": {
      "text/plain": [
       "<matplotlib.axes._subplots.AxesSubplot at 0x7faa25b34970>"
      ]
     },
     "execution_count": 1549,
     "metadata": {},
     "output_type": "execute_result"
    },
    {
     "data": {
      "image/png": "[encoded data removed]",
      "text/plain": [
       "<Figure size 432x288 with 1 Axes>"
      ]
     },
     "metadata": {
      "needs_background": "light"
     },
     "output_type": "display_data"
    }
   ],
   "source": [
    "cccd.boxplot()"
   ]
  },
  {
   "cell_type": "code",
   "execution_count": 1550,
   "metadata": {},
   "outputs": [],
   "source": [
    "#We could see outliers for average credit limit and Total Visits Online"
   ]
  },
  {
   "cell_type": "code",
   "execution_count": 1551,
   "metadata": {},
   "outputs": [
    {
     "data": {
      "text/plain": [
       "{'whiskers': [<matplotlib.lines.Line2D at 0x7faa27022580>,\n",
       "  <matplotlib.lines.Line2D at 0x7faa270228e0>],\n",
       " 'caps': [<matplotlib.lines.Line2D at 0x7faa27022c40>,\n",
       "  <matplotlib.lines.Line2D at 0x7faa27022f10>],\n",
       " 'boxes': [<matplotlib.lines.Line2D at 0x7faa27022220>],\n",
       " 'medians': [<matplotlib.lines.Line2D at 0x7faa2702b280>],\n",
       " 'fliers': [<matplotlib.lines.Line2D at 0x7faa2702b550>],\n",
       " 'means': []}"
      ]
     },
     "execution_count": 1551,
     "metadata": {},
     "output_type": "execute_result"
    },
    {
     "data": {
      "image/png": "[encoded data removed]",
      "text/plain": [
       "<Figure size 432x288 with 1 Axes>"
      ]
     },
     "metadata": {
      "needs_background": "light"
     },
     "output_type": "display_data"
    }
   ],
   "source": [
    "plt.boxplot(cccd['Avg_Credit_Limit'])"
   ]
  },
  {
   "cell_type": "code",
   "execution_count": 1552,
   "metadata": {},
   "outputs": [
    {
     "data": {
      "text/plain": [
       "{'whiskers': [<matplotlib.lines.Line2D at 0x7faa270adf10>,\n",
       "  <matplotlib.lines.Line2D at 0x7faa270b92b0>],\n",
       " 'caps': [<matplotlib.lines.Line2D at 0x7faa270b9610>,\n",
       "  <matplotlib.lines.Line2D at 0x7faa270b9970>],\n",
       " 'boxes': [<matplotlib.lines.Line2D at 0x7faa270adbb0>],\n",
       " 'medians': [<matplotlib.lines.Line2D at 0x7faa270b9cd0>],\n",
       " 'fliers': [<matplotlib.lines.Line2D at 0x7faa270b9fd0>],\n",
       " 'means': []}"
      ]
     },
     "execution_count": 1552,
     "metadata": {},
     "output_type": "execute_result"
    },
    {
     "data": {
      "image/png": "[encoded data removed]",
      "text/plain": [
       "<Figure size 432x288 with 1 Axes>"
      ]
     },
     "metadata": {
      "needs_background": "light"
     },
     "output_type": "display_data"
    }
   ],
   "source": [
    "plt.boxplot(cccd['Total_visits_online'])"
   ]
  },
  {
   "cell_type": "code",
   "execution_count": 1553,
   "metadata": {},
   "outputs": [
    {
     "data": {
      "text/plain": [
       "{'whiskers': [<matplotlib.lines.Line2D at 0x7faa28d47550>,\n",
       "  <matplotlib.lines.Line2D at 0x7faa28d478b0>],\n",
       " 'caps': [<matplotlib.lines.Line2D at 0x7faa28d47c10>,\n",
       "  <matplotlib.lines.Line2D at 0x7faa28d47f70>],\n",
       " 'boxes': [<matplotlib.lines.Line2D at 0x7faa28d471f0>],\n",
       " 'medians': [<matplotlib.lines.Line2D at 0x7faa28d50310>],\n",
       " 'fliers': [<matplotlib.lines.Line2D at 0x7faa28d50610>],\n",
       " 'means': []}"
      ]
     },
     "execution_count": 1553,
     "metadata": {},
     "output_type": "execute_result"
    },
    {
     "data": {
      "image/png": "[encoded data removed]",
      "text/plain": [
       "<Figure size 432x288 with 1 Axes>"
      ]
     },
     "metadata": {
      "needs_background": "light"
     },
     "output_type": "display_data"
    }
   ],
   "source": [
    "plt.boxplot(cccd['Total_calls_made'])"
   ]
  },
  {
   "cell_type": "code",
   "execution_count": 1554,
   "metadata": {},
   "outputs": [],
   "source": [
    "cccd_new = cccd"
   ]
  },
  {
   "cell_type": "code",
   "execution_count": 1555,
   "metadata": {},
   "outputs": [],
   "source": [
    "#Lets try to remove outliers from Average Credit Limit and also from \n",
    "cccd_new['Avg_Credit_Limit'] = np.log(cccd_new['Avg_Credit_Limit'])\n",
    "cccd_new['Total_visits_online'] = np.log(cccd_new['Total_visits_online'])"
   ]
  },
  {
   "cell_type": "code",
   "execution_count": 1556,
   "metadata": {},
   "outputs": [
    {
     "data": {
      "text/plain": [
       "array([0.        , 2.30258509, 1.09861229, 0.        , 2.48490665,\n",
       "       0.        , 2.39789527, 0.        , 0.69314718, 0.        ,\n",
       "       1.60943791, 0.69314718, 1.60943791, 1.60943791, 1.38629436,\n",
       "       1.60943791, 0.69314718, 1.09861229, 0.69314718, 1.60943791,\n",
       "       1.60943791, 1.09861229, 1.38629436, 1.09861229, 0.69314718,\n",
       "       1.60943791, 1.60943791, 0.69314718, 1.38629436, 1.38629436,\n",
       "       1.60943791, 1.60943791, 1.60943791, 1.60943791, 1.09861229,\n",
       "       1.38629436, 1.38629436, 1.38629436, 1.09861229, 1.38629436,\n",
       "       1.60943791, 0.69314718, 1.09861229, 1.38629436, 1.38629436,\n",
       "       1.38629436, 0.69314718, 0.69314718, 0.69314718, 0.69314718,\n",
       "       1.60943791, 1.60943791, 1.60943791, 1.60943791, 1.38629436,\n",
       "       0.69314718, 0.69314718, 0.69314718, 1.38629436, 1.38629436,\n",
       "       1.38629436, 0.69314718, 0.69314718, 1.38629436, 1.60943791,\n",
       "       1.38629436, 1.09861229, 0.69314718, 1.38629436, 1.09861229,\n",
       "       1.38629436, 0.69314718, 0.69314718, 1.09861229, 1.60943791,\n",
       "       1.38629436, 1.38629436, 1.38629436, 1.38629436, 0.69314718,\n",
       "       1.38629436, 1.60943791, 0.69314718, 1.38629436, 1.38629436,\n",
       "       1.38629436, 1.09861229, 0.69314718, 1.38629436, 1.38629436,\n",
       "       1.38629436, 0.69314718, 1.38629436, 1.60943791, 1.38629436,\n",
       "       1.60943791, 1.09861229, 1.60943791, 1.38629436, 1.38629436,\n",
       "       1.60943791, 1.60943791, 1.60943791, 1.09861229, 0.69314718,\n",
       "       1.38629436, 1.60943791, 0.69314718, 0.69314718, 1.09861229,\n",
       "       1.09861229, 1.38629436, 1.09861229, 0.69314718, 1.09861229,\n",
       "       1.09861229, 0.69314718, 1.38629436, 1.38629436, 1.38629436,\n",
       "       1.38629436, 1.60943791, 0.69314718, 1.38629436, 1.09861229,\n",
       "       1.60943791, 1.38629436, 1.09861229, 1.60943791, 1.38629436,\n",
       "       1.60943791, 0.69314718, 0.69314718, 1.60943791, 1.60943791,\n",
       "       1.09861229, 0.69314718, 1.60943791, 1.60943791, 1.09861229,\n",
       "       0.69314718, 1.38629436, 1.38629436, 1.60943791, 1.38629436,\n",
       "       1.38629436, 1.09861229, 1.60943791, 0.69314718, 0.69314718,\n",
       "       0.69314718, 1.38629436, 0.69314718, 1.38629436, 1.09861229,\n",
       "       1.38629436, 1.60943791, 1.60943791, 1.60943791, 0.69314718,\n",
       "       1.09861229, 1.60943791, 1.09861229, 1.60943791, 1.38629436,\n",
       "       1.38629436, 1.38629436, 1.09861229, 1.38629436, 1.38629436,\n",
       "       0.69314718, 1.09861229, 1.60943791, 1.60943791, 0.69314718,\n",
       "       0.69314718, 0.69314718, 1.38629436, 1.38629436, 1.09861229,\n",
       "       1.09861229, 0.69314718, 1.09861229, 1.60943791, 0.69314718,\n",
       "       1.38629436, 0.69314718, 1.09861229, 1.09861229, 1.09861229,\n",
       "       1.38629436, 1.09861229, 1.09861229, 1.60943791, 1.38629436,\n",
       "       1.38629436, 0.69314718, 0.69314718, 1.38629436, 1.38629436,\n",
       "       0.69314718, 1.09861229, 1.09861229, 1.09861229, 1.60943791,\n",
       "       1.60943791, 0.69314718, 1.38629436, 1.09861229, 0.69314718,\n",
       "       1.38629436, 1.60943791, 1.09861229, 0.69314718, 1.38629436,\n",
       "       1.38629436, 1.60943791, 0.69314718, 1.60943791, 1.60943791,\n",
       "       1.09861229, 1.60943791, 1.09861229, 1.38629436, 1.60943791,\n",
       "       0.69314718, 1.38629436, 1.09861229,       -inf, 0.        ,\n",
       "             -inf, 0.69314718, 0.        , 0.        ,       -inf,\n",
       "             -inf, 0.69314718,       -inf, 0.69314718,       -inf,\n",
       "       0.69314718, 0.        , 0.69314718, 0.69314718, 0.69314718,\n",
       "       0.        ,       -inf, 0.        , 0.        , 0.69314718,\n",
       "       0.        , 0.        ,       -inf, 0.        , 0.        ,\n",
       "       0.69314718, 0.        , 0.69314718, 0.69314718, 0.        ,\n",
       "       0.        ,       -inf, 0.69314718,       -inf, 0.        ,\n",
       "       0.69314718,       -inf,       -inf,       -inf, 0.        ,\n",
       "       0.69314718,       -inf, 0.69314718, 0.69314718, 0.        ,\n",
       "       0.        , 0.69314718,       -inf, 0.69314718, 0.69314718,\n",
       "       0.        ,       -inf, 0.        , 0.        , 0.        ,\n",
       "       0.69314718,       -inf,       -inf, 0.69314718, 0.69314718,\n",
       "       0.        , 0.69314718,       -inf, 0.        , 0.69314718,\n",
       "       0.69314718,       -inf,       -inf,       -inf, 0.69314718,\n",
       "             -inf, 0.69314718, 0.69314718, 0.69314718, 0.69314718,\n",
       "       0.        ,       -inf, 0.69314718,       -inf, 0.69314718,\n",
       "             -inf,       -inf, 0.        , 0.69314718, 0.        ,\n",
       "       0.        ,       -inf,       -inf,       -inf,       -inf,\n",
       "       0.69314718,       -inf, 0.        , 0.69314718,       -inf,\n",
       "       0.69314718, 0.69314718, 0.        , 0.69314718, 0.69314718,\n",
       "       0.        , 0.69314718, 0.        , 0.69314718, 0.69314718,\n",
       "       0.69314718, 0.69314718,       -inf,       -inf, 0.        ,\n",
       "       0.        , 0.69314718, 0.69314718, 0.69314718, 0.69314718,\n",
       "       0.69314718,       -inf,       -inf, 0.69314718, 0.69314718,\n",
       "             -inf,       -inf,       -inf, 0.        ,       -inf,\n",
       "       0.        , 0.        , 0.69314718, 0.69314718,       -inf,\n",
       "             -inf, 0.        , 0.69314718,       -inf, 0.69314718,\n",
       "             -inf,       -inf, 0.69314718,       -inf, 0.        ,\n",
       "       0.69314718, 0.69314718, 0.        ,       -inf,       -inf,\n",
       "       0.        , 0.        ,       -inf, 0.69314718,       -inf,\n",
       "             -inf,       -inf, 0.69314718, 0.        ,       -inf,\n",
       "       0.69314718, 0.69314718,       -inf, 0.69314718,       -inf,\n",
       "             -inf,       -inf,       -inf,       -inf,       -inf,\n",
       "             -inf, 0.69314718, 0.69314718, 0.69314718,       -inf,\n",
       "       0.69314718,       -inf,       -inf, 0.69314718,       -inf,\n",
       "             -inf,       -inf,       -inf,       -inf, 0.69314718,\n",
       "       0.69314718,       -inf, 0.69314718,       -inf,       -inf,\n",
       "       0.69314718, 0.69314718, 0.        ,       -inf,       -inf,\n",
       "       0.69314718,       -inf, 0.        ,       -inf, 0.69314718,\n",
       "             -inf,       -inf, 0.69314718,       -inf, 0.        ,\n",
       "             -inf, 0.69314718, 0.        , 0.69314718, 0.        ,\n",
       "             -inf, 0.        ,       -inf, 0.        ,       -inf,\n",
       "             -inf, 0.        ,       -inf, 0.69314718, 0.69314718,\n",
       "             -inf,       -inf, 0.69314718, 0.69314718, 0.69314718,\n",
       "       0.69314718, 0.69314718, 0.69314718,       -inf,       -inf,\n",
       "             -inf, 0.69314718,       -inf, 0.        , 0.69314718,\n",
       "       0.69314718, 0.69314718,       -inf, 0.        , 0.        ,\n",
       "             -inf,       -inf, 0.69314718,       -inf, 0.        ,\n",
       "       0.        , 0.69314718, 0.        , 0.        , 0.        ,\n",
       "       0.69314718,       -inf, 0.69314718, 0.69314718, 0.69314718,\n",
       "             -inf, 0.        ,       -inf, 0.        , 0.        ,\n",
       "       0.69314718, 0.69314718, 0.69314718,       -inf, 0.69314718,\n",
       "             -inf,       -inf, 0.69314718, 0.        ,       -inf,\n",
       "             -inf, 0.69314718, 0.        , 0.        , 0.69314718,\n",
       "             -inf, 0.        , 0.69314718,       -inf, 0.        ,\n",
       "             -inf, 0.69314718, 0.69314718,       -inf, 0.69314718,\n",
       "       0.69314718,       -inf, 0.        , 0.        , 0.69314718,\n",
       "       0.69314718,       -inf, 0.69314718,       -inf,       -inf,\n",
       "             -inf, 0.69314718,       -inf,       -inf, 0.69314718,\n",
       "       0.        , 0.69314718, 0.        ,       -inf, 0.69314718,\n",
       "             -inf, 0.69314718, 0.69314718,       -inf,       -inf,\n",
       "       0.        , 0.        , 0.        , 0.        , 0.        ,\n",
       "             -inf, 0.69314718, 0.        , 0.        , 0.        ,\n",
       "             -inf, 0.        , 0.69314718,       -inf, 0.69314718,\n",
       "       0.69314718, 0.        , 0.69314718, 0.        , 0.69314718,\n",
       "             -inf,       -inf, 0.        , 0.        , 0.69314718,\n",
       "       0.        ,       -inf,       -inf, 0.        ,       -inf,\n",
       "             -inf,       -inf, 0.        , 0.        , 0.        ,\n",
       "       0.        ,       -inf,       -inf, 0.69314718, 0.69314718,\n",
       "             -inf, 0.        ,       -inf,       -inf,       -inf,\n",
       "       0.69314718, 0.        , 0.        ,       -inf, 0.        ,\n",
       "             -inf,       -inf,       -inf, 0.        ,       -inf,\n",
       "       0.69314718, 0.        , 0.69314718, 0.        , 0.        ,\n",
       "       0.69314718, 0.69314718, 0.69314718, 0.        , 0.69314718,\n",
       "             -inf,       -inf,       -inf, 0.69314718,       -inf,\n",
       "       0.69314718, 0.        , 0.        , 0.        , 0.69314718,\n",
       "       0.        , 0.        , 2.63905733, 2.39789527, 1.94591015,\n",
       "       2.30258509, 2.39789527, 2.56494936, 2.56494936, 2.56494936,\n",
       "       2.7080502 , 2.48490665, 2.7080502 , 1.94591015, 2.39789527,\n",
       "       1.79175947, 2.30258509, 2.48490665, 2.7080502 , 1.94591015,\n",
       "       2.56494936, 2.7080502 , 1.94591015, 2.30258509, 2.07944154,\n",
       "       1.94591015, 2.07944154, 2.39789527, 1.94591015, 2.7080502 ,\n",
       "       2.7080502 , 2.30258509, 2.19722458, 2.07944154, 2.7080502 ,\n",
       "       2.7080502 , 2.07944154, 2.19722458, 1.94591015, 2.07944154,\n",
       "       2.48490665, 2.48490665, 2.07944154, 2.7080502 , 2.19722458,\n",
       "       2.30258509, 2.56494936, 2.19722458, 2.7080502 , 2.48490665])"
      ]
     },
     "execution_count": 1556,
     "metadata": {},
     "output_type": "execute_result"
    }
   ],
   "source": [
    "cccd_new['Total_visits_online'].values"
   ]
  },
  {
   "cell_type": "code",
   "execution_count": 1557,
   "metadata": {},
   "outputs": [],
   "source": [
    "cccd_kmeans = cccd_new.replace([np.inf, -np.inf], 0.00000000)\n",
    "cccd_agg = cccd_kmeans"
   ]
  },
  {
   "cell_type": "code",
   "execution_count": 1558,
   "metadata": {},
   "outputs": [
    {
     "data": {
      "text/plain": [
       "array([0.        , 2.30258509, 1.09861229, 0.        , 2.48490665,\n",
       "       0.        , 2.39789527, 0.        , 0.69314718, 0.        ,\n",
       "       1.60943791, 0.69314718, 1.60943791, 1.60943791, 1.38629436,\n",
       "       1.60943791, 0.69314718, 1.09861229, 0.69314718, 1.60943791,\n",
       "       1.60943791, 1.09861229, 1.38629436, 1.09861229, 0.69314718,\n",
       "       1.60943791, 1.60943791, 0.69314718, 1.38629436, 1.38629436,\n",
       "       1.60943791, 1.60943791, 1.60943791, 1.60943791, 1.09861229,\n",
       "       1.38629436, 1.38629436, 1.38629436, 1.09861229, 1.38629436,\n",
       "       1.60943791, 0.69314718, 1.09861229, 1.38629436, 1.38629436,\n",
       "       1.38629436, 0.69314718, 0.69314718, 0.69314718, 0.69314718,\n",
       "       1.60943791, 1.60943791, 1.60943791, 1.60943791, 1.38629436,\n",
       "       0.69314718, 0.69314718, 0.69314718, 1.38629436, 1.38629436,\n",
       "       1.38629436, 0.69314718, 0.69314718, 1.38629436, 1.60943791,\n",
       "       1.38629436, 1.09861229, 0.69314718, 1.38629436, 1.09861229,\n",
       "       1.38629436, 0.69314718, 0.69314718, 1.09861229, 1.60943791,\n",
       "       1.38629436, 1.38629436, 1.38629436, 1.38629436, 0.69314718,\n",
       "       1.38629436, 1.60943791, 0.69314718, 1.38629436, 1.38629436,\n",
       "       1.38629436, 1.09861229, 0.69314718, 1.38629436, 1.38629436,\n",
       "       1.38629436, 0.69314718, 1.38629436, 1.60943791, 1.38629436,\n",
       "       1.60943791, 1.09861229, 1.60943791, 1.38629436, 1.38629436,\n",
       "       1.60943791, 1.60943791, 1.60943791, 1.09861229, 0.69314718,\n",
       "       1.38629436, 1.60943791, 0.69314718, 0.69314718, 1.09861229,\n",
       "       1.09861229, 1.38629436, 1.09861229, 0.69314718, 1.09861229,\n",
       "       1.09861229, 0.69314718, 1.38629436, 1.38629436, 1.38629436,\n",
       "       1.38629436, 1.60943791, 0.69314718, 1.38629436, 1.09861229,\n",
       "       1.60943791, 1.38629436, 1.09861229, 1.60943791, 1.38629436,\n",
       "       1.60943791, 0.69314718, 0.69314718, 1.60943791, 1.60943791,\n",
       "       1.09861229, 0.69314718, 1.60943791, 1.60943791, 1.09861229,\n",
       "       0.69314718, 1.38629436, 1.38629436, 1.60943791, 1.38629436,\n",
       "       1.38629436, 1.09861229, 1.60943791, 0.69314718, 0.69314718,\n",
       "       0.69314718, 1.38629436, 0.69314718, 1.38629436, 1.09861229,\n",
       "       1.38629436, 1.60943791, 1.60943791, 1.60943791, 0.69314718,\n",
       "       1.09861229, 1.60943791, 1.09861229, 1.60943791, 1.38629436,\n",
       "       1.38629436, 1.38629436, 1.09861229, 1.38629436, 1.38629436,\n",
       "       0.69314718, 1.09861229, 1.60943791, 1.60943791, 0.69314718,\n",
       "       0.69314718, 0.69314718, 1.38629436, 1.38629436, 1.09861229,\n",
       "       1.09861229, 0.69314718, 1.09861229, 1.60943791, 0.69314718,\n",
       "       1.38629436, 0.69314718, 1.09861229, 1.09861229, 1.09861229,\n",
       "       1.38629436, 1.09861229, 1.09861229, 1.60943791, 1.38629436,\n",
       "       1.38629436, 0.69314718, 0.69314718, 1.38629436, 1.38629436,\n",
       "       0.69314718, 1.09861229, 1.09861229, 1.09861229, 1.60943791,\n",
       "       1.60943791, 0.69314718, 1.38629436, 1.09861229, 0.69314718,\n",
       "       1.38629436, 1.60943791, 1.09861229, 0.69314718, 1.38629436,\n",
       "       1.38629436, 1.60943791, 0.69314718, 1.60943791, 1.60943791,\n",
       "       1.09861229, 1.60943791, 1.09861229, 1.38629436, 1.60943791,\n",
       "       0.69314718, 1.38629436, 1.09861229, 0.        , 0.        ,\n",
       "       0.        , 0.69314718, 0.        , 0.        , 0.        ,\n",
       "       0.        , 0.69314718, 0.        , 0.69314718, 0.        ,\n",
       "       0.69314718, 0.        , 0.69314718, 0.69314718, 0.69314718,\n",
       "       0.        , 0.        , 0.        , 0.        , 0.69314718,\n",
       "       0.        , 0.        , 0.        , 0.        , 0.        ,\n",
       "       0.69314718, 0.        , 0.69314718, 0.69314718, 0.        ,\n",
       "       0.        , 0.        , 0.69314718, 0.        , 0.        ,\n",
       "       0.69314718, 0.        , 0.        , 0.        , 0.        ,\n",
       "       0.69314718, 0.        , 0.69314718, 0.69314718, 0.        ,\n",
       "       0.        , 0.69314718, 0.        , 0.69314718, 0.69314718,\n",
       "       0.        , 0.        , 0.        , 0.        , 0.        ,\n",
       "       0.69314718, 0.        , 0.        , 0.69314718, 0.69314718,\n",
       "       0.        , 0.69314718, 0.        , 0.        , 0.69314718,\n",
       "       0.69314718, 0.        , 0.        , 0.        , 0.69314718,\n",
       "       0.        , 0.69314718, 0.69314718, 0.69314718, 0.69314718,\n",
       "       0.        , 0.        , 0.69314718, 0.        , 0.69314718,\n",
       "       0.        , 0.        , 0.        , 0.69314718, 0.        ,\n",
       "       0.        , 0.        , 0.        , 0.        , 0.        ,\n",
       "       0.69314718, 0.        , 0.        , 0.69314718, 0.        ,\n",
       "       0.69314718, 0.69314718, 0.        , 0.69314718, 0.69314718,\n",
       "       0.        , 0.69314718, 0.        , 0.69314718, 0.69314718,\n",
       "       0.69314718, 0.69314718, 0.        , 0.        , 0.        ,\n",
       "       0.        , 0.69314718, 0.69314718, 0.69314718, 0.69314718,\n",
       "       0.69314718, 0.        , 0.        , 0.69314718, 0.69314718,\n",
       "       0.        , 0.        , 0.        , 0.        , 0.        ,\n",
       "       0.        , 0.        , 0.69314718, 0.69314718, 0.        ,\n",
       "       0.        , 0.        , 0.69314718, 0.        , 0.69314718,\n",
       "       0.        , 0.        , 0.69314718, 0.        , 0.        ,\n",
       "       0.69314718, 0.69314718, 0.        , 0.        , 0.        ,\n",
       "       0.        , 0.        , 0.        , 0.69314718, 0.        ,\n",
       "       0.        , 0.        , 0.69314718, 0.        , 0.        ,\n",
       "       0.69314718, 0.69314718, 0.        , 0.69314718, 0.        ,\n",
       "       0.        , 0.        , 0.        , 0.        , 0.        ,\n",
       "       0.        , 0.69314718, 0.69314718, 0.69314718, 0.        ,\n",
       "       0.69314718, 0.        , 0.        , 0.69314718, 0.        ,\n",
       "       0.        , 0.        , 0.        , 0.        , 0.69314718,\n",
       "       0.69314718, 0.        , 0.69314718, 0.        , 0.        ,\n",
       "       0.69314718, 0.69314718, 0.        , 0.        , 0.        ,\n",
       "       0.69314718, 0.        , 0.        , 0.        , 0.69314718,\n",
       "       0.        , 0.        , 0.69314718, 0.        , 0.        ,\n",
       "       0.        , 0.69314718, 0.        , 0.69314718, 0.        ,\n",
       "       0.        , 0.        , 0.        , 0.        , 0.        ,\n",
       "       0.        , 0.        , 0.        , 0.69314718, 0.69314718,\n",
       "       0.        , 0.        , 0.69314718, 0.69314718, 0.69314718,\n",
       "       0.69314718, 0.69314718, 0.69314718, 0.        , 0.        ,\n",
       "       0.        , 0.69314718, 0.        , 0.        , 0.69314718,\n",
       "       0.69314718, 0.69314718, 0.        , 0.        , 0.        ,\n",
       "       0.        , 0.        , 0.69314718, 0.        , 0.        ,\n",
       "       0.        , 0.69314718, 0.        , 0.        , 0.        ,\n",
       "       0.69314718, 0.        , 0.69314718, 0.69314718, 0.69314718,\n",
       "       0.        , 0.        , 0.        , 0.        , 0.        ,\n",
       "       0.69314718, 0.69314718, 0.69314718, 0.        , 0.69314718,\n",
       "       0.        , 0.        , 0.69314718, 0.        , 0.        ,\n",
       "       0.        , 0.69314718, 0.        , 0.        , 0.69314718,\n",
       "       0.        , 0.        , 0.69314718, 0.        , 0.        ,\n",
       "       0.        , 0.69314718, 0.69314718, 0.        , 0.69314718,\n",
       "       0.69314718, 0.        , 0.        , 0.        , 0.69314718,\n",
       "       0.69314718, 0.        , 0.69314718, 0.        , 0.        ,\n",
       "       0.        , 0.69314718, 0.        , 0.        , 0.69314718,\n",
       "       0.        , 0.69314718, 0.        , 0.        , 0.69314718,\n",
       "       0.        , 0.69314718, 0.69314718, 0.        , 0.        ,\n",
       "       0.        , 0.        , 0.        , 0.        , 0.        ,\n",
       "       0.        , 0.69314718, 0.        , 0.        , 0.        ,\n",
       "       0.        , 0.        , 0.69314718, 0.        , 0.69314718,\n",
       "       0.69314718, 0.        , 0.69314718, 0.        , 0.69314718,\n",
       "       0.        , 0.        , 0.        , 0.        , 0.69314718,\n",
       "       0.        , 0.        , 0.        , 0.        , 0.        ,\n",
       "       0.        , 0.        , 0.        , 0.        , 0.        ,\n",
       "       0.        , 0.        , 0.        , 0.69314718, 0.69314718,\n",
       "       0.        , 0.        , 0.        , 0.        , 0.        ,\n",
       "       0.69314718, 0.        , 0.        , 0.        , 0.        ,\n",
       "       0.        , 0.        , 0.        , 0.        , 0.        ,\n",
       "       0.69314718, 0.        , 0.69314718, 0.        , 0.        ,\n",
       "       0.69314718, 0.69314718, 0.69314718, 0.        , 0.69314718,\n",
       "       0.        , 0.        , 0.        , 0.69314718, 0.        ,\n",
       "       0.69314718, 0.        , 0.        , 0.        , 0.69314718,\n",
       "       0.        , 0.        , 2.63905733, 2.39789527, 1.94591015,\n",
       "       2.30258509, 2.39789527, 2.56494936, 2.56494936, 2.56494936,\n",
       "       2.7080502 , 2.48490665, 2.7080502 , 1.94591015, 2.39789527,\n",
       "       1.79175947, 2.30258509, 2.48490665, 2.7080502 , 1.94591015,\n",
       "       2.56494936, 2.7080502 , 1.94591015, 2.30258509, 2.07944154,\n",
       "       1.94591015, 2.07944154, 2.39789527, 1.94591015, 2.7080502 ,\n",
       "       2.7080502 , 2.30258509, 2.19722458, 2.07944154, 2.7080502 ,\n",
       "       2.7080502 , 2.07944154, 2.19722458, 1.94591015, 2.07944154,\n",
       "       2.48490665, 2.48490665, 2.07944154, 2.7080502 , 2.19722458,\n",
       "       2.30258509, 2.56494936, 2.19722458, 2.7080502 , 2.48490665])"
      ]
     },
     "execution_count": 1558,
     "metadata": {},
     "output_type": "execute_result"
    }
   ],
   "source": [
    "cccd_kmeans['Total_visits_online'].values"
   ]
  },
  {
   "cell_type": "code",
   "execution_count": 1559,
   "metadata": {
    "scrolled": true
   },
   "outputs": [
    {
     "data": {
      "text/plain": [
       "Avg_Credit_Limit       0\n",
       "Total_Credit_Cards     0\n",
       "Total_visits_bank      0\n",
       "Total_visits_online    0\n",
       "Total_calls_made       0\n",
       "dtype: int64"
      ]
     },
     "execution_count": 1559,
     "metadata": {},
     "output_type": "execute_result"
    }
   ],
   "source": [
    "cccd_kmeans.isna().sum()"
   ]
  },
  {
   "cell_type": "code",
   "execution_count": 1560,
   "metadata": {},
   "outputs": [
    {
     "data": {
      "text/plain": [
       "<bound method DataFrame.info of      Avg_Credit_Limit  Total_Credit_Cards  Total_visits_bank  \\\n",
       "0           11.512925                   2                  1   \n",
       "1           10.819778                   3                  0   \n",
       "2           10.819778                   7                  1   \n",
       "3           10.308953                   5                  1   \n",
       "4           11.512925                   6                  0   \n",
       "..                ...                 ...                ...   \n",
       "655         11.502875                  10                  1   \n",
       "656         11.338572                  10                  1   \n",
       "657         11.884489                   8                  1   \n",
       "658         12.055250                  10                  1   \n",
       "659         12.025749                   9                  0   \n",
       "\n",
       "     Total_visits_online  Total_calls_made  \n",
       "0               0.000000                 0  \n",
       "1               2.302585                 9  \n",
       "2               1.098612                 4  \n",
       "3               0.000000                 4  \n",
       "4               2.484907                 3  \n",
       "..                   ...               ...  \n",
       "655             2.302585                 0  \n",
       "656             2.564949                 2  \n",
       "657             2.197225                 1  \n",
       "658             2.708050                 0  \n",
       "659             2.484907                 2  \n",
       "\n",
       "[660 rows x 5 columns]>"
      ]
     },
     "execution_count": 1560,
     "metadata": {},
     "output_type": "execute_result"
    }
   ],
   "source": [
    "cccd_kmeans.info"
   ]
  },
  {
   "cell_type": "code",
   "execution_count": 1561,
   "metadata": {},
   "outputs": [
    {
     "data": {
      "text/html": [
       "<div>\n",
       "<style scoped>\n",
       "    .dataframe tbody tr th:only-of-type {\n",
       "        vertical-align: middle;\n",
       "    }\n",
       "\n",
       "    .dataframe tbody tr th {\n",
       "        vertical-align: top;\n",
       "    }\n",
       "\n",
       "    .dataframe thead th {\n",
       "        text-align: right;\n",
       "    }\n",
       "</style>\n",
       "<table border=\"1\" class=\"dataframe\">\n",
       "  <thead>\n",
       "    <tr style=\"text-align: right;\">\n",
       "      <th></th>\n",
       "      <th>Avg_Credit_Limit</th>\n",
       "      <th>Total_Credit_Cards</th>\n",
       "      <th>Total_visits_bank</th>\n",
       "      <th>Total_visits_online</th>\n",
       "      <th>Total_calls_made</th>\n",
       "    </tr>\n",
       "  </thead>\n",
       "  <tbody>\n",
       "    <tr>\n",
       "      <th>count</th>\n",
       "      <td>660.000000</td>\n",
       "      <td>660.000000</td>\n",
       "      <td>660.000000</td>\n",
       "      <td>660.000000</td>\n",
       "      <td>660.000000</td>\n",
       "    </tr>\n",
       "    <tr>\n",
       "      <th>mean</th>\n",
       "      <td>9.996115</td>\n",
       "      <td>4.706061</td>\n",
       "      <td>2.403030</td>\n",
       "      <td>0.730068</td>\n",
       "      <td>3.583333</td>\n",
       "    </tr>\n",
       "    <tr>\n",
       "      <th>std</th>\n",
       "      <td>0.930992</td>\n",
       "      <td>2.167835</td>\n",
       "      <td>1.631813</td>\n",
       "      <td>0.729176</td>\n",
       "      <td>2.865317</td>\n",
       "    </tr>\n",
       "    <tr>\n",
       "      <th>min</th>\n",
       "      <td>8.006368</td>\n",
       "      <td>1.000000</td>\n",
       "      <td>0.000000</td>\n",
       "      <td>0.000000</td>\n",
       "      <td>0.000000</td>\n",
       "    </tr>\n",
       "    <tr>\n",
       "      <th>25%</th>\n",
       "      <td>9.210340</td>\n",
       "      <td>3.000000</td>\n",
       "      <td>1.000000</td>\n",
       "      <td>0.000000</td>\n",
       "      <td>1.000000</td>\n",
       "    </tr>\n",
       "    <tr>\n",
       "      <th>50%</th>\n",
       "      <td>9.798127</td>\n",
       "      <td>5.000000</td>\n",
       "      <td>2.000000</td>\n",
       "      <td>0.693147</td>\n",
       "      <td>3.000000</td>\n",
       "    </tr>\n",
       "    <tr>\n",
       "      <th>75%</th>\n",
       "      <td>10.778956</td>\n",
       "      <td>6.000000</td>\n",
       "      <td>4.000000</td>\n",
       "      <td>1.386294</td>\n",
       "      <td>5.000000</td>\n",
       "    </tr>\n",
       "    <tr>\n",
       "      <th>max</th>\n",
       "      <td>12.206073</td>\n",
       "      <td>10.000000</td>\n",
       "      <td>5.000000</td>\n",
       "      <td>2.708050</td>\n",
       "      <td>10.000000</td>\n",
       "    </tr>\n",
       "  </tbody>\n",
       "</table>\n",
       "</div>"
      ],
      "text/plain": [
       "       Avg_Credit_Limit  Total_Credit_Cards  Total_visits_bank  \\\n",
       "count        660.000000          660.000000         660.000000   \n",
       "mean           9.996115            4.706061           2.403030   \n",
       "std            0.930992            2.167835           1.631813   \n",
       "min            8.006368            1.000000           0.000000   \n",
       "25%            9.210340            3.000000           1.000000   \n",
       "50%            9.798127            5.000000           2.000000   \n",
       "75%           10.778956            6.000000           4.000000   \n",
       "max           12.206073           10.000000           5.000000   \n",
       "\n",
       "       Total_visits_online  Total_calls_made  \n",
       "count           660.000000        660.000000  \n",
       "mean              0.730068          3.583333  \n",
       "std               0.729176          2.865317  \n",
       "min               0.000000          0.000000  \n",
       "25%               0.000000          1.000000  \n",
       "50%               0.693147          3.000000  \n",
       "75%               1.386294          5.000000  \n",
       "max               2.708050         10.000000  "
      ]
     },
     "execution_count": 1561,
     "metadata": {},
     "output_type": "execute_result"
    }
   ],
   "source": [
    "cccd_kmeans.describe()"
   ]
  },
  {
   "cell_type": "code",
   "execution_count": null,
   "metadata": {},
   "outputs": [],
   "source": []
  },
  {
   "cell_type": "code",
   "execution_count": null,
   "metadata": {},
   "outputs": [],
   "source": []
  },
  {
   "cell_type": "code",
   "execution_count": 1562,
   "metadata": {},
   "outputs": [
    {
     "data": {
      "text/plain": [
       "<matplotlib.axes._subplots.AxesSubplot at 0x7faa28d69d90>"
      ]
     },
     "execution_count": 1562,
     "metadata": {},
     "output_type": "execute_result"
    },
    {
     "data": {
      "image/png": "[encoded data removed]",
      "text/plain": [
       "<Figure size 432x288 with 1 Axes>"
      ]
     },
     "metadata": {
      "needs_background": "light"
     },
     "output_type": "display_data"
    }
   ],
   "source": [
    "cccd_kmeans.boxplot()"
   ]
  },
  {
   "cell_type": "code",
   "execution_count": 1563,
   "metadata": {},
   "outputs": [],
   "source": [
    "#This looks much better for our future work "
   ]
  },
  {
   "cell_type": "code",
   "execution_count": 1564,
   "metadata": {},
   "outputs": [
    {
     "name": "stdout",
     "output_type": "stream",
     "text": [
      "<class 'pandas.core.frame.DataFrame'>\n",
      "RangeIndex: 660 entries, 0 to 659\n",
      "Data columns (total 5 columns):\n",
      " #   Column               Non-Null Count  Dtype  \n",
      "---  ------               --------------  -----  \n",
      " 0   Avg_Credit_Limit     660 non-null    float64\n",
      " 1   Total_Credit_Cards   660 non-null    int64  \n",
      " 2   Total_visits_bank    660 non-null    int64  \n",
      " 3   Total_visits_online  660 non-null    float64\n",
      " 4   Total_calls_made     660 non-null    int64  \n",
      "dtypes: float64(2), int64(3)\n",
      "memory usage: 25.9 KB\n"
     ]
    }
   ],
   "source": [
    "cccd_kmeans.info()"
   ]
  },
  {
   "cell_type": "code",
   "execution_count": 1565,
   "metadata": {},
   "outputs": [
    {
     "data": {
      "text/html": [
       "<div>\n",
       "<style scoped>\n",
       "    .dataframe tbody tr th:only-of-type {\n",
       "        vertical-align: middle;\n",
       "    }\n",
       "\n",
       "    .dataframe tbody tr th {\n",
       "        vertical-align: top;\n",
       "    }\n",
       "\n",
       "    .dataframe thead th {\n",
       "        text-align: right;\n",
       "    }\n",
       "</style>\n",
       "<table border=\"1\" class=\"dataframe\">\n",
       "  <thead>\n",
       "    <tr style=\"text-align: right;\">\n",
       "      <th></th>\n",
       "      <th>Avg_Credit_Limit</th>\n",
       "      <th>Total_Credit_Cards</th>\n",
       "      <th>Total_visits_bank</th>\n",
       "      <th>Total_visits_online</th>\n",
       "      <th>Total_calls_made</th>\n",
       "    </tr>\n",
       "  </thead>\n",
       "  <tbody>\n",
       "    <tr>\n",
       "      <th>count</th>\n",
       "      <td>660.000000</td>\n",
       "      <td>660.000000</td>\n",
       "      <td>660.000000</td>\n",
       "      <td>660.000000</td>\n",
       "      <td>660.000000</td>\n",
       "    </tr>\n",
       "    <tr>\n",
       "      <th>mean</th>\n",
       "      <td>9.996115</td>\n",
       "      <td>4.706061</td>\n",
       "      <td>2.403030</td>\n",
       "      <td>0.730068</td>\n",
       "      <td>3.583333</td>\n",
       "    </tr>\n",
       "    <tr>\n",
       "      <th>std</th>\n",
       "      <td>0.930992</td>\n",
       "      <td>2.167835</td>\n",
       "      <td>1.631813</td>\n",
       "      <td>0.729176</td>\n",
       "      <td>2.865317</td>\n",
       "    </tr>\n",
       "    <tr>\n",
       "      <th>min</th>\n",
       "      <td>8.006368</td>\n",
       "      <td>1.000000</td>\n",
       "      <td>0.000000</td>\n",
       "      <td>0.000000</td>\n",
       "      <td>0.000000</td>\n",
       "    </tr>\n",
       "    <tr>\n",
       "      <th>25%</th>\n",
       "      <td>9.210340</td>\n",
       "      <td>3.000000</td>\n",
       "      <td>1.000000</td>\n",
       "      <td>0.000000</td>\n",
       "      <td>1.000000</td>\n",
       "    </tr>\n",
       "    <tr>\n",
       "      <th>50%</th>\n",
       "      <td>9.798127</td>\n",
       "      <td>5.000000</td>\n",
       "      <td>2.000000</td>\n",
       "      <td>0.693147</td>\n",
       "      <td>3.000000</td>\n",
       "    </tr>\n",
       "    <tr>\n",
       "      <th>75%</th>\n",
       "      <td>10.778956</td>\n",
       "      <td>6.000000</td>\n",
       "      <td>4.000000</td>\n",
       "      <td>1.386294</td>\n",
       "      <td>5.000000</td>\n",
       "    </tr>\n",
       "    <tr>\n",
       "      <th>max</th>\n",
       "      <td>12.206073</td>\n",
       "      <td>10.000000</td>\n",
       "      <td>5.000000</td>\n",
       "      <td>2.708050</td>\n",
       "      <td>10.000000</td>\n",
       "    </tr>\n",
       "  </tbody>\n",
       "</table>\n",
       "</div>"
      ],
      "text/plain": [
       "       Avg_Credit_Limit  Total_Credit_Cards  Total_visits_bank  \\\n",
       "count        660.000000          660.000000         660.000000   \n",
       "mean           9.996115            4.706061           2.403030   \n",
       "std            0.930992            2.167835           1.631813   \n",
       "min            8.006368            1.000000           0.000000   \n",
       "25%            9.210340            3.000000           1.000000   \n",
       "50%            9.798127            5.000000           2.000000   \n",
       "75%           10.778956            6.000000           4.000000   \n",
       "max           12.206073           10.000000           5.000000   \n",
       "\n",
       "       Total_visits_online  Total_calls_made  \n",
       "count           660.000000        660.000000  \n",
       "mean              0.730068          3.583333  \n",
       "std               0.729176          2.865317  \n",
       "min               0.000000          0.000000  \n",
       "25%               0.000000          1.000000  \n",
       "50%               0.693147          3.000000  \n",
       "75%               1.386294          5.000000  \n",
       "max               2.708050         10.000000  "
      ]
     },
     "execution_count": 1565,
     "metadata": {},
     "output_type": "execute_result"
    }
   ],
   "source": [
    "cccd_kmeans.describe()"
   ]
  },
  {
   "cell_type": "code",
   "execution_count": 1566,
   "metadata": {},
   "outputs": [],
   "source": [
    "#Lets look at scaling now since AVG_CREDIT_LIMIT will have a much bigger say "
   ]
  },
  {
   "cell_type": "code",
   "execution_count": 1567,
   "metadata": {},
   "outputs": [],
   "source": [
    "from scipy.stats import zscore\n",
    "\n",
    "cccd_new.dtypes\n",
    "numeric_cols = cccd_kmeans.select_dtypes(include=[np.float64,np.int64]).columns\n",
    "numeric_cols\n",
    "cccd_kmeans[numeric_cols] =cccd_kmeans[numeric_cols].apply(zscore)\n"
   ]
  },
  {
   "cell_type": "code",
   "execution_count": 1568,
   "metadata": {},
   "outputs": [
    {
     "data": {
      "text/html": [
       "<div>\n",
       "<style scoped>\n",
       "    .dataframe tbody tr th:only-of-type {\n",
       "        vertical-align: middle;\n",
       "    }\n",
       "\n",
       "    .dataframe tbody tr th {\n",
       "        vertical-align: top;\n",
       "    }\n",
       "\n",
       "    .dataframe thead th {\n",
       "        text-align: right;\n",
       "    }\n",
       "</style>\n",
       "<table border=\"1\" class=\"dataframe\">\n",
       "  <thead>\n",
       "    <tr style=\"text-align: right;\">\n",
       "      <th></th>\n",
       "      <th>Avg_Credit_Limit</th>\n",
       "      <th>Total_Credit_Cards</th>\n",
       "      <th>Total_visits_bank</th>\n",
       "      <th>Total_visits_online</th>\n",
       "      <th>Total_calls_made</th>\n",
       "    </tr>\n",
       "  </thead>\n",
       "  <tbody>\n",
       "    <tr>\n",
       "      <th>0</th>\n",
       "      <td>1.630478</td>\n",
       "      <td>-1.249225</td>\n",
       "      <td>-0.860451</td>\n",
       "      <td>-1.001984</td>\n",
       "      <td>-1.251537</td>\n",
       "    </tr>\n",
       "    <tr>\n",
       "      <th>1</th>\n",
       "      <td>0.885387</td>\n",
       "      <td>-0.787585</td>\n",
       "      <td>-1.473731</td>\n",
       "      <td>2.158203</td>\n",
       "      <td>1.891859</td>\n",
       "    </tr>\n",
       "    <tr>\n",
       "      <th>2</th>\n",
       "      <td>0.885387</td>\n",
       "      <td>1.058973</td>\n",
       "      <td>-0.860451</td>\n",
       "      <td>0.505809</td>\n",
       "      <td>0.145528</td>\n",
       "    </tr>\n",
       "    <tr>\n",
       "      <th>3</th>\n",
       "      <td>0.336281</td>\n",
       "      <td>0.135694</td>\n",
       "      <td>-0.860451</td>\n",
       "      <td>-1.001984</td>\n",
       "      <td>0.145528</td>\n",
       "    </tr>\n",
       "    <tr>\n",
       "      <th>4</th>\n",
       "      <td>1.630478</td>\n",
       "      <td>0.597334</td>\n",
       "      <td>-1.473731</td>\n",
       "      <td>2.408431</td>\n",
       "      <td>-0.203739</td>\n",
       "    </tr>\n",
       "    <tr>\n",
       "      <th>5</th>\n",
       "      <td>-0.099569</td>\n",
       "      <td>-0.787585</td>\n",
       "      <td>-1.473731</td>\n",
       "      <td>-1.001984</td>\n",
       "      <td>1.542593</td>\n",
       "    </tr>\n",
       "    <tr>\n",
       "      <th>6</th>\n",
       "      <td>1.630478</td>\n",
       "      <td>0.135694</td>\n",
       "      <td>-1.473731</td>\n",
       "      <td>2.289012</td>\n",
       "      <td>-0.553005</td>\n",
       "    </tr>\n",
       "    <tr>\n",
       "      <th>7</th>\n",
       "      <td>-0.408809</td>\n",
       "      <td>-0.787585</td>\n",
       "      <td>-1.473731</td>\n",
       "      <td>-1.001984</td>\n",
       "      <td>-0.902271</td>\n",
       "    </tr>\n",
       "    <tr>\n",
       "      <th>8</th>\n",
       "      <td>-1.589750</td>\n",
       "      <td>-1.249225</td>\n",
       "      <td>-1.473731</td>\n",
       "      <td>-0.050673</td>\n",
       "      <td>-0.553005</td>\n",
       "    </tr>\n",
       "    <tr>\n",
       "      <th>9</th>\n",
       "      <td>-2.138856</td>\n",
       "      <td>-0.325946</td>\n",
       "      <td>-1.473731</td>\n",
       "      <td>-1.001984</td>\n",
       "      <td>1.193326</td>\n",
       "    </tr>\n",
       "    <tr>\n",
       "      <th>10</th>\n",
       "      <td>-0.844659</td>\n",
       "      <td>-0.325946</td>\n",
       "      <td>-1.473731</td>\n",
       "      <td>1.206892</td>\n",
       "      <td>0.494794</td>\n",
       "    </tr>\n",
       "    <tr>\n",
       "      <th>11</th>\n",
       "      <td>-0.562634</td>\n",
       "      <td>-0.787585</td>\n",
       "      <td>-1.473731</td>\n",
       "      <td>-0.050673</td>\n",
       "      <td>1.193326</td>\n",
       "    </tr>\n",
       "    <tr>\n",
       "      <th>12</th>\n",
       "      <td>-0.742207</td>\n",
       "      <td>-1.710864</td>\n",
       "      <td>-0.247170</td>\n",
       "      <td>1.206892</td>\n",
       "      <td>1.891859</td>\n",
       "    </tr>\n",
       "    <tr>\n",
       "      <th>13</th>\n",
       "      <td>-0.957915</td>\n",
       "      <td>-1.710864</td>\n",
       "      <td>-0.860451</td>\n",
       "      <td>1.206892</td>\n",
       "      <td>0.844060</td>\n",
       "    </tr>\n",
       "    <tr>\n",
       "      <th>14</th>\n",
       "      <td>-1.393765</td>\n",
       "      <td>-1.249225</td>\n",
       "      <td>-0.247170</td>\n",
       "      <td>0.900638</td>\n",
       "      <td>0.844060</td>\n",
       "    </tr>\n",
       "    <tr>\n",
       "      <th>15</th>\n",
       "      <td>-1.084525</td>\n",
       "      <td>-1.249225</td>\n",
       "      <td>-1.473731</td>\n",
       "      <td>1.206892</td>\n",
       "      <td>1.193326</td>\n",
       "    </tr>\n",
       "    <tr>\n",
       "      <th>16</th>\n",
       "      <td>-0.408809</td>\n",
       "      <td>-1.249225</td>\n",
       "      <td>-0.860451</td>\n",
       "      <td>-0.050673</td>\n",
       "      <td>0.145528</td>\n",
       "    </tr>\n",
       "    <tr>\n",
       "      <th>17</th>\n",
       "      <td>-1.084525</td>\n",
       "      <td>-1.249225</td>\n",
       "      <td>-1.473731</td>\n",
       "      <td>0.505809</td>\n",
       "      <td>0.145528</td>\n",
       "    </tr>\n",
       "    <tr>\n",
       "      <th>18</th>\n",
       "      <td>-0.742207</td>\n",
       "      <td>-1.249225</td>\n",
       "      <td>-0.247170</td>\n",
       "      <td>-0.050673</td>\n",
       "      <td>1.193326</td>\n",
       "    </tr>\n",
       "    <tr>\n",
       "      <th>19</th>\n",
       "      <td>-0.154706</td>\n",
       "      <td>-0.325946</td>\n",
       "      <td>-0.860451</td>\n",
       "      <td>1.206892</td>\n",
       "      <td>1.542593</td>\n",
       "    </tr>\n",
       "    <tr>\n",
       "      <th>20</th>\n",
       "      <td>-1.589750</td>\n",
       "      <td>-0.787585</td>\n",
       "      <td>-0.247170</td>\n",
       "      <td>1.206892</td>\n",
       "      <td>0.494794</td>\n",
       "    </tr>\n",
       "    <tr>\n",
       "      <th>21</th>\n",
       "      <td>-0.339434</td>\n",
       "      <td>-1.249225</td>\n",
       "      <td>-1.473731</td>\n",
       "      <td>0.505809</td>\n",
       "      <td>1.193326</td>\n",
       "    </tr>\n",
       "    <tr>\n",
       "      <th>22</th>\n",
       "      <td>-1.393765</td>\n",
       "      <td>-0.325946</td>\n",
       "      <td>-0.860451</td>\n",
       "      <td>0.900638</td>\n",
       "      <td>0.844060</td>\n",
       "    </tr>\n",
       "    <tr>\n",
       "      <th>23</th>\n",
       "      <td>-0.957915</td>\n",
       "      <td>-1.710864</td>\n",
       "      <td>-0.860451</td>\n",
       "      <td>0.505809</td>\n",
       "      <td>0.145528</td>\n",
       "    </tr>\n",
       "    <tr>\n",
       "      <th>24</th>\n",
       "      <td>-1.084525</td>\n",
       "      <td>-1.249225</td>\n",
       "      <td>-1.473731</td>\n",
       "      <td>-0.050673</td>\n",
       "      <td>2.241125</td>\n",
       "    </tr>\n",
       "    <tr>\n",
       "      <th>25</th>\n",
       "      <td>-0.212825</td>\n",
       "      <td>-1.710864</td>\n",
       "      <td>-0.860451</td>\n",
       "      <td>1.206892</td>\n",
       "      <td>2.241125</td>\n",
       "    </tr>\n",
       "    <tr>\n",
       "      <th>26</th>\n",
       "      <td>-0.339434</td>\n",
       "      <td>-0.787585</td>\n",
       "      <td>-1.473731</td>\n",
       "      <td>1.206892</td>\n",
       "      <td>1.891859</td>\n",
       "    </tr>\n",
       "    <tr>\n",
       "      <th>27</th>\n",
       "      <td>-0.957915</td>\n",
       "      <td>-1.249225</td>\n",
       "      <td>-0.247170</td>\n",
       "      <td>-0.050673</td>\n",
       "      <td>2.241125</td>\n",
       "    </tr>\n",
       "    <tr>\n",
       "      <th>28</th>\n",
       "      <td>-1.589750</td>\n",
       "      <td>-1.249225</td>\n",
       "      <td>-1.473731</td>\n",
       "      <td>0.900638</td>\n",
       "      <td>0.844060</td>\n",
       "    </tr>\n",
       "    <tr>\n",
       "      <th>29</th>\n",
       "      <td>-1.084525</td>\n",
       "      <td>-0.325946</td>\n",
       "      <td>-1.473731</td>\n",
       "      <td>0.900638</td>\n",
       "      <td>1.193326</td>\n",
       "    </tr>\n",
       "    <tr>\n",
       "      <th>30</th>\n",
       "      <td>-0.339434</td>\n",
       "      <td>-0.787585</td>\n",
       "      <td>-0.860451</td>\n",
       "      <td>1.206892</td>\n",
       "      <td>0.145528</td>\n",
       "    </tr>\n",
       "    <tr>\n",
       "      <th>31</th>\n",
       "      <td>-0.742207</td>\n",
       "      <td>-0.787585</td>\n",
       "      <td>-0.860451</td>\n",
       "      <td>1.206892</td>\n",
       "      <td>0.844060</td>\n",
       "    </tr>\n",
       "    <tr>\n",
       "      <th>32</th>\n",
       "      <td>-1.393765</td>\n",
       "      <td>-1.710864</td>\n",
       "      <td>-1.473731</td>\n",
       "      <td>1.206892</td>\n",
       "      <td>2.241125</td>\n",
       "    </tr>\n",
       "    <tr>\n",
       "      <th>33</th>\n",
       "      <td>-0.339434</td>\n",
       "      <td>-1.710864</td>\n",
       "      <td>-1.473731</td>\n",
       "      <td>1.206892</td>\n",
       "      <td>0.844060</td>\n",
       "    </tr>\n",
       "    <tr>\n",
       "      <th>34</th>\n",
       "      <td>-1.084525</td>\n",
       "      <td>-0.325946</td>\n",
       "      <td>-0.860451</td>\n",
       "      <td>0.505809</td>\n",
       "      <td>2.241125</td>\n",
       "    </tr>\n",
       "    <tr>\n",
       "      <th>35</th>\n",
       "      <td>-0.154706</td>\n",
       "      <td>-1.249225</td>\n",
       "      <td>-1.473731</td>\n",
       "      <td>0.900638</td>\n",
       "      <td>0.145528</td>\n",
       "    </tr>\n",
       "    <tr>\n",
       "      <th>36</th>\n",
       "      <td>-0.957915</td>\n",
       "      <td>-0.787585</td>\n",
       "      <td>-0.860451</td>\n",
       "      <td>0.900638</td>\n",
       "      <td>2.241125</td>\n",
       "    </tr>\n",
       "    <tr>\n",
       "      <th>37</th>\n",
       "      <td>-0.274267</td>\n",
       "      <td>-1.249225</td>\n",
       "      <td>-1.473731</td>\n",
       "      <td>0.900638</td>\n",
       "      <td>0.844060</td>\n",
       "    </tr>\n",
       "    <tr>\n",
       "      <th>38</th>\n",
       "      <td>-0.562634</td>\n",
       "      <td>-0.325946</td>\n",
       "      <td>-0.860451</td>\n",
       "      <td>0.505809</td>\n",
       "      <td>2.241125</td>\n",
       "    </tr>\n",
       "    <tr>\n",
       "      <th>39</th>\n",
       "      <td>-0.844659</td>\n",
       "      <td>-1.249225</td>\n",
       "      <td>-0.247170</td>\n",
       "      <td>0.900638</td>\n",
       "      <td>1.891859</td>\n",
       "    </tr>\n",
       "    <tr>\n",
       "      <th>40</th>\n",
       "      <td>-0.154706</td>\n",
       "      <td>-0.325946</td>\n",
       "      <td>-0.247170</td>\n",
       "      <td>1.206892</td>\n",
       "      <td>1.891859</td>\n",
       "    </tr>\n",
       "    <tr>\n",
       "      <th>41</th>\n",
       "      <td>-0.844659</td>\n",
       "      <td>-1.710864</td>\n",
       "      <td>-0.860451</td>\n",
       "      <td>-0.050673</td>\n",
       "      <td>1.193326</td>\n",
       "    </tr>\n",
       "    <tr>\n",
       "      <th>42</th>\n",
       "      <td>-0.339434</td>\n",
       "      <td>-0.325946</td>\n",
       "      <td>-0.247170</td>\n",
       "      <td>0.505809</td>\n",
       "      <td>0.145528</td>\n",
       "    </tr>\n",
       "    <tr>\n",
       "      <th>43</th>\n",
       "      <td>-0.099569</td>\n",
       "      <td>-1.249225</td>\n",
       "      <td>-1.473731</td>\n",
       "      <td>0.900638</td>\n",
       "      <td>0.145528</td>\n",
       "    </tr>\n",
       "    <tr>\n",
       "      <th>44</th>\n",
       "      <td>-0.742207</td>\n",
       "      <td>-0.325946</td>\n",
       "      <td>-0.247170</td>\n",
       "      <td>0.900638</td>\n",
       "      <td>0.494794</td>\n",
       "    </tr>\n",
       "    <tr>\n",
       "      <th>45</th>\n",
       "      <td>-0.482972</td>\n",
       "      <td>-0.325946</td>\n",
       "      <td>-0.860451</td>\n",
       "      <td>0.900638</td>\n",
       "      <td>1.891859</td>\n",
       "    </tr>\n",
       "    <tr>\n",
       "      <th>46</th>\n",
       "      <td>-1.589750</td>\n",
       "      <td>-1.710864</td>\n",
       "      <td>-0.247170</td>\n",
       "      <td>-0.050673</td>\n",
       "      <td>0.494794</td>\n",
       "    </tr>\n",
       "    <tr>\n",
       "      <th>47</th>\n",
       "      <td>-0.742207</td>\n",
       "      <td>-1.710864</td>\n",
       "      <td>-0.247170</td>\n",
       "      <td>-0.050673</td>\n",
       "      <td>0.844060</td>\n",
       "    </tr>\n",
       "    <tr>\n",
       "      <th>48</th>\n",
       "      <td>-1.393765</td>\n",
       "      <td>-0.325946</td>\n",
       "      <td>-1.473731</td>\n",
       "      <td>-0.050673</td>\n",
       "      <td>1.542593</td>\n",
       "    </tr>\n",
       "    <tr>\n",
       "      <th>49</th>\n",
       "      <td>-0.482972</td>\n",
       "      <td>-0.787585</td>\n",
       "      <td>-0.247170</td>\n",
       "      <td>-0.050673</td>\n",
       "      <td>0.844060</td>\n",
       "    </tr>\n",
       "  </tbody>\n",
       "</table>\n",
       "</div>"
      ],
      "text/plain": [
       "    Avg_Credit_Limit  Total_Credit_Cards  Total_visits_bank  \\\n",
       "0           1.630478           -1.249225          -0.860451   \n",
       "1           0.885387           -0.787585          -1.473731   \n",
       "2           0.885387            1.058973          -0.860451   \n",
       "3           0.336281            0.135694          -0.860451   \n",
       "4           1.630478            0.597334          -1.473731   \n",
       "5          -0.099569           -0.787585          -1.473731   \n",
       "6           1.630478            0.135694          -1.473731   \n",
       "7          -0.408809           -0.787585          -1.473731   \n",
       "8          -1.589750           -1.249225          -1.473731   \n",
       "9          -2.138856           -0.325946          -1.473731   \n",
       "10         -0.844659           -0.325946          -1.473731   \n",
       "11         -0.562634           -0.787585          -1.473731   \n",
       "12         -0.742207           -1.710864          -0.247170   \n",
       "13         -0.957915           -1.710864          -0.860451   \n",
       "14         -1.393765           -1.249225          -0.247170   \n",
       "15         -1.084525           -1.249225          -1.473731   \n",
       "16         -0.408809           -1.249225          -0.860451   \n",
       "17         -1.084525           -1.249225          -1.473731   \n",
       "18         -0.742207           -1.249225          -0.247170   \n",
       "19         -0.154706           -0.325946          -0.860451   \n",
       "20         -1.589750           -0.787585          -0.247170   \n",
       "21         -0.339434           -1.249225          -1.473731   \n",
       "22         -1.393765           -0.325946          -0.860451   \n",
       "23         -0.957915           -1.710864          -0.860451   \n",
       "24         -1.084525           -1.249225          -1.473731   \n",
       "25         -0.212825           -1.710864          -0.860451   \n",
       "26         -0.339434           -0.787585          -1.473731   \n",
       "27         -0.957915           -1.249225          -0.247170   \n",
       "28         -1.589750           -1.249225          -1.473731   \n",
       "29         -1.084525           -0.325946          -1.473731   \n",
       "30         -0.339434           -0.787585          -0.860451   \n",
       "31         -0.742207           -0.787585          -0.860451   \n",
       "32         -1.393765           -1.710864          -1.473731   \n",
       "33         -0.339434           -1.710864          -1.473731   \n",
       "34         -1.084525           -0.325946          -0.860451   \n",
       "35         -0.154706           -1.249225          -1.473731   \n",
       "36         -0.957915           -0.787585          -0.860451   \n",
       "37         -0.274267           -1.249225          -1.473731   \n",
       "38         -0.562634           -0.325946          -0.860451   \n",
       "39         -0.844659           -1.249225          -0.247170   \n",
       "40         -0.154706           -0.325946          -0.247170   \n",
       "41         -0.844659           -1.710864          -0.860451   \n",
       "42         -0.339434           -0.325946          -0.247170   \n",
       "43         -0.099569           -1.249225          -1.473731   \n",
       "44         -0.742207           -0.325946          -0.247170   \n",
       "45         -0.482972           -0.325946          -0.860451   \n",
       "46         -1.589750           -1.710864          -0.247170   \n",
       "47         -0.742207           -1.710864          -0.247170   \n",
       "48         -1.393765           -0.325946          -1.473731   \n",
       "49         -0.482972           -0.787585          -0.247170   \n",
       "\n",
       "    Total_visits_online  Total_calls_made  \n",
       "0             -1.001984         -1.251537  \n",
       "1              2.158203          1.891859  \n",
       "2              0.505809          0.145528  \n",
       "3             -1.001984          0.145528  \n",
       "4              2.408431         -0.203739  \n",
       "5             -1.001984          1.542593  \n",
       "6              2.289012         -0.553005  \n",
       "7             -1.001984         -0.902271  \n",
       "8             -0.050673         -0.553005  \n",
       "9             -1.001984          1.193326  \n",
       "10             1.206892          0.494794  \n",
       "11            -0.050673          1.193326  \n",
       "12             1.206892          1.891859  \n",
       "13             1.206892          0.844060  \n",
       "14             0.900638          0.844060  \n",
       "15             1.206892          1.193326  \n",
       "16            -0.050673          0.145528  \n",
       "17             0.505809          0.145528  \n",
       "18            -0.050673          1.193326  \n",
       "19             1.206892          1.542593  \n",
       "20             1.206892          0.494794  \n",
       "21             0.505809          1.193326  \n",
       "22             0.900638          0.844060  \n",
       "23             0.505809          0.145528  \n",
       "24            -0.050673          2.241125  \n",
       "25             1.206892          2.241125  \n",
       "26             1.206892          1.891859  \n",
       "27            -0.050673          2.241125  \n",
       "28             0.900638          0.844060  \n",
       "29             0.900638          1.193326  \n",
       "30             1.206892          0.145528  \n",
       "31             1.206892          0.844060  \n",
       "32             1.206892          2.241125  \n",
       "33             1.206892          0.844060  \n",
       "34             0.505809          2.241125  \n",
       "35             0.900638          0.145528  \n",
       "36             0.900638          2.241125  \n",
       "37             0.900638          0.844060  \n",
       "38             0.505809          2.241125  \n",
       "39             0.900638          1.891859  \n",
       "40             1.206892          1.891859  \n",
       "41            -0.050673          1.193326  \n",
       "42             0.505809          0.145528  \n",
       "43             0.900638          0.145528  \n",
       "44             0.900638          0.494794  \n",
       "45             0.900638          1.891859  \n",
       "46            -0.050673          0.494794  \n",
       "47            -0.050673          0.844060  \n",
       "48            -0.050673          1.542593  \n",
       "49            -0.050673          0.844060  "
      ]
     },
     "execution_count": 1568,
     "metadata": {},
     "output_type": "execute_result"
    }
   ],
   "source": [
    "cccd_kmeans.head(50)"
   ]
  },
  {
   "cell_type": "code",
   "execution_count": 1569,
   "metadata": {},
   "outputs": [
    {
     "name": "stdout",
     "output_type": "stream",
     "text": [
      "<class 'pandas.core.frame.DataFrame'>\n",
      "RangeIndex: 660 entries, 0 to 659\n",
      "Data columns (total 5 columns):\n",
      " #   Column               Non-Null Count  Dtype  \n",
      "---  ------               --------------  -----  \n",
      " 0   Avg_Credit_Limit     660 non-null    float64\n",
      " 1   Total_Credit_Cards   660 non-null    float64\n",
      " 2   Total_visits_bank    660 non-null    float64\n",
      " 3   Total_visits_online  660 non-null    float64\n",
      " 4   Total_calls_made     660 non-null    float64\n",
      "dtypes: float64(5)\n",
      "memory usage: 25.9 KB\n"
     ]
    }
   ],
   "source": [
    "cccd_kmeans.info()"
   ]
  },
  {
   "cell_type": "code",
   "execution_count": 1570,
   "metadata": {},
   "outputs": [
    {
     "data": {
      "text/plain": [
       "(660, 5)"
      ]
     },
     "execution_count": 1570,
     "metadata": {},
     "output_type": "execute_result"
    }
   ],
   "source": [
    "cccd_kmeans.shape"
   ]
  },
  {
   "cell_type": "code",
   "execution_count": 1571,
   "metadata": {},
   "outputs": [
    {
     "data": {
      "text/plain": [
       "Avg_Credit_Limit       0\n",
       "Total_Credit_Cards     0\n",
       "Total_visits_bank      0\n",
       "Total_visits_online    0\n",
       "Total_calls_made       0\n",
       "dtype: int64"
      ]
     },
     "execution_count": 1571,
     "metadata": {},
     "output_type": "execute_result"
    }
   ],
   "source": [
    "cccd_kmeans.isna().sum()"
   ]
  },
  {
   "cell_type": "code",
   "execution_count": 1572,
   "metadata": {},
   "outputs": [],
   "source": [
    "#Lets create appropriate clusters with the updated dataset\n",
    "import os\n",
    "from sklearn.cluster import KMeans\n",
    "from sklearn.preprocessing import LabelEncoder\n",
    "from sklearn.preprocessing import MinMaxScaler\n"
   ]
  },
  {
   "cell_type": "code",
   "execution_count": 1573,
   "metadata": {},
   "outputs": [
    {
     "data": {
      "text/html": [
       "<div>\n",
       "<style scoped>\n",
       "    .dataframe tbody tr th:only-of-type {\n",
       "        vertical-align: middle;\n",
       "    }\n",
       "\n",
       "    .dataframe tbody tr th {\n",
       "        vertical-align: top;\n",
       "    }\n",
       "\n",
       "    .dataframe thead th {\n",
       "        text-align: right;\n",
       "    }\n",
       "</style>\n",
       "<table border=\"1\" class=\"dataframe\">\n",
       "  <thead>\n",
       "    <tr style=\"text-align: right;\">\n",
       "      <th></th>\n",
       "      <th>num_clusters</th>\n",
       "      <th>cluster_errors</th>\n",
       "    </tr>\n",
       "  </thead>\n",
       "  <tbody>\n",
       "    <tr>\n",
       "      <th>0</th>\n",
       "      <td>1</td>\n",
       "      <td>3300.000000</td>\n",
       "    </tr>\n",
       "    <tr>\n",
       "      <th>1</th>\n",
       "      <td>2</td>\n",
       "      <td>1872.566365</td>\n",
       "    </tr>\n",
       "    <tr>\n",
       "      <th>2</th>\n",
       "      <td>3</td>\n",
       "      <td>1117.394240</td>\n",
       "    </tr>\n",
       "    <tr>\n",
       "      <th>3</th>\n",
       "      <td>4</td>\n",
       "      <td>887.700142</td>\n",
       "    </tr>\n",
       "    <tr>\n",
       "      <th>4</th>\n",
       "      <td>5</td>\n",
       "      <td>801.969686</td>\n",
       "    </tr>\n",
       "    <tr>\n",
       "      <th>5</th>\n",
       "      <td>6</td>\n",
       "      <td>725.552141</td>\n",
       "    </tr>\n",
       "    <tr>\n",
       "      <th>6</th>\n",
       "      <td>7</td>\n",
       "      <td>696.650957</td>\n",
       "    </tr>\n",
       "    <tr>\n",
       "      <th>7</th>\n",
       "      <td>8</td>\n",
       "      <td>632.564526</td>\n",
       "    </tr>\n",
       "    <tr>\n",
       "      <th>8</th>\n",
       "      <td>9</td>\n",
       "      <td>605.228688</td>\n",
       "    </tr>\n",
       "    <tr>\n",
       "      <th>9</th>\n",
       "      <td>10</td>\n",
       "      <td>578.367915</td>\n",
       "    </tr>\n",
       "    <tr>\n",
       "      <th>10</th>\n",
       "      <td>11</td>\n",
       "      <td>561.185471</td>\n",
       "    </tr>\n",
       "    <tr>\n",
       "      <th>11</th>\n",
       "      <td>12</td>\n",
       "      <td>541.809581</td>\n",
       "    </tr>\n",
       "    <tr>\n",
       "      <th>12</th>\n",
       "      <td>13</td>\n",
       "      <td>524.608078</td>\n",
       "    </tr>\n",
       "    <tr>\n",
       "      <th>13</th>\n",
       "      <td>14</td>\n",
       "      <td>505.858719</td>\n",
       "    </tr>\n",
       "    <tr>\n",
       "      <th>14</th>\n",
       "      <td>15</td>\n",
       "      <td>491.155496</td>\n",
       "    </tr>\n",
       "    <tr>\n",
       "      <th>15</th>\n",
       "      <td>16</td>\n",
       "      <td>473.908171</td>\n",
       "    </tr>\n",
       "    <tr>\n",
       "      <th>16</th>\n",
       "      <td>17</td>\n",
       "      <td>458.097076</td>\n",
       "    </tr>\n",
       "    <tr>\n",
       "      <th>17</th>\n",
       "      <td>18</td>\n",
       "      <td>445.807878</td>\n",
       "    </tr>\n",
       "    <tr>\n",
       "      <th>18</th>\n",
       "      <td>19</td>\n",
       "      <td>438.564288</td>\n",
       "    </tr>\n",
       "    <tr>\n",
       "      <th>19</th>\n",
       "      <td>20</td>\n",
       "      <td>422.694630</td>\n",
       "    </tr>\n",
       "    <tr>\n",
       "      <th>20</th>\n",
       "      <td>21</td>\n",
       "      <td>415.677441</td>\n",
       "    </tr>\n",
       "    <tr>\n",
       "      <th>21</th>\n",
       "      <td>22</td>\n",
       "      <td>395.237205</td>\n",
       "    </tr>\n",
       "    <tr>\n",
       "      <th>22</th>\n",
       "      <td>23</td>\n",
       "      <td>392.163853</td>\n",
       "    </tr>\n",
       "    <tr>\n",
       "      <th>23</th>\n",
       "      <td>24</td>\n",
       "      <td>384.654772</td>\n",
       "    </tr>\n",
       "    <tr>\n",
       "      <th>24</th>\n",
       "      <td>25</td>\n",
       "      <td>373.698344</td>\n",
       "    </tr>\n",
       "    <tr>\n",
       "      <th>25</th>\n",
       "      <td>26</td>\n",
       "      <td>360.303065</td>\n",
       "    </tr>\n",
       "    <tr>\n",
       "      <th>26</th>\n",
       "      <td>27</td>\n",
       "      <td>355.975196</td>\n",
       "    </tr>\n",
       "    <tr>\n",
       "      <th>27</th>\n",
       "      <td>28</td>\n",
       "      <td>347.956004</td>\n",
       "    </tr>\n",
       "    <tr>\n",
       "      <th>28</th>\n",
       "      <td>29</td>\n",
       "      <td>345.653587</td>\n",
       "    </tr>\n",
       "  </tbody>\n",
       "</table>\n",
       "</div>"
      ],
      "text/plain": [
       "    num_clusters  cluster_errors\n",
       "0              1     3300.000000\n",
       "1              2     1872.566365\n",
       "2              3     1117.394240\n",
       "3              4      887.700142\n",
       "4              5      801.969686\n",
       "5              6      725.552141\n",
       "6              7      696.650957\n",
       "7              8      632.564526\n",
       "8              9      605.228688\n",
       "9             10      578.367915\n",
       "10            11      561.185471\n",
       "11            12      541.809581\n",
       "12            13      524.608078\n",
       "13            14      505.858719\n",
       "14            15      491.155496\n",
       "15            16      473.908171\n",
       "16            17      458.097076\n",
       "17            18      445.807878\n",
       "18            19      438.564288\n",
       "19            20      422.694630\n",
       "20            21      415.677441\n",
       "21            22      395.237205\n",
       "22            23      392.163853\n",
       "23            24      384.654772\n",
       "24            25      373.698344\n",
       "25            26      360.303065\n",
       "26            27      355.975196\n",
       "27            28      347.956004\n",
       "28            29      345.653587"
      ]
     },
     "execution_count": 1573,
     "metadata": {},
     "output_type": "execute_result"
    }
   ],
   "source": [
    "cluster_range = range(1,30)\n",
    "cluster_errors = []\n",
    "for num_clusters in cluster_range:\n",
    "    clusters = KMeans(num_clusters,n_init=5)\n",
    "    clusters.fit(cccd_kmeans)\n",
    "    labels = clusters.labels_\n",
    "    centroids = clusters.cluster_centers_\n",
    "    cluster_errors.append(clusters.inertia_)\n",
    "\n",
    "clusters_df = pd.DataFrame({\"num_clusters\": cluster_range, \"cluster_errors\": cluster_errors})\n",
    "clusters_df[0:30]"
   ]
  },
  {
   "cell_type": "code",
   "execution_count": 1574,
   "metadata": {},
   "outputs": [
    {
     "data": {
      "text/plain": [
       "[<matplotlib.lines.Line2D at 0x7faa2a42d130>]"
      ]
     },
     "execution_count": 1574,
     "metadata": {},
     "output_type": "execute_result"
    },
    {
     "data": {
      "image/png": "[encoded data removed]",
      "text/plain": [
       "<Figure size 864x432 with 1 Axes>"
      ]
     },
     "metadata": {
      "needs_background": "light"
     },
     "output_type": "display_data"
    }
   ],
   "source": [
    "from matplotlib import cm\n",
    "\n",
    "plt.figure(figsize=(12,6))\n",
    "plt.plot( clusters_df.num_clusters, clusters_df.cluster_errors, marker = \"o\" )\n"
   ]
  },
  {
   "cell_type": "code",
   "execution_count": 1324,
   "metadata": {},
   "outputs": [],
   "source": [
    "#We can see when the number of clusters are 4,5,6,7 we can see a good curve \n",
    "#after that we dont see a much difference in error\n",
    "#I will use 5"
   ]
  },
  {
   "cell_type": "code",
   "execution_count": 1575,
   "metadata": {},
   "outputs": [
    {
     "data": {
      "text/plain": [
       "KMeans(n_clusters=5, n_init=5, random_state=12345)"
      ]
     },
     "execution_count": 1575,
     "metadata": {},
     "output_type": "execute_result"
    }
   ],
   "source": [
    "kmeans = KMeans(n_clusters=5, n_init =5, random_state=12345)\n",
    "kmeans.fit(cccd_kmeans)\n"
   ]
  },
  {
   "cell_type": "code",
   "execution_count": 1576,
   "metadata": {},
   "outputs": [
    {
     "name": "stdout",
     "output_type": "stream",
     "text": [
      "[ 50 133 222 104 151]\n"
     ]
    }
   ],
   "source": [
    "# Check the number of data in each cluster\n",
    "\n",
    "labels = kmeans.labels_\n",
    "counts = np.bincount(labels[labels>=0])\n",
    "print(counts)"
   ]
  },
  {
   "cell_type": "code",
   "execution_count": 1577,
   "metadata": {},
   "outputs": [
    {
     "data": {
      "text/html": [
       "<div>\n",
       "<style scoped>\n",
       "    .dataframe tbody tr th:only-of-type {\n",
       "        vertical-align: middle;\n",
       "    }\n",
       "\n",
       "    .dataframe tbody tr th {\n",
       "        vertical-align: top;\n",
       "    }\n",
       "\n",
       "    .dataframe thead th {\n",
       "        text-align: right;\n",
       "    }\n",
       "</style>\n",
       "<table border=\"1\" class=\"dataframe\">\n",
       "  <thead>\n",
       "    <tr style=\"text-align: right;\">\n",
       "      <th></th>\n",
       "      <th>0</th>\n",
       "      <th>1</th>\n",
       "      <th>2</th>\n",
       "      <th>3</th>\n",
       "      <th>4</th>\n",
       "    </tr>\n",
       "  </thead>\n",
       "  <tbody>\n",
       "    <tr>\n",
       "      <th>Avg_Credit_Limit</th>\n",
       "      <td>1.966490</td>\n",
       "      <td>0.755767</td>\n",
       "      <td>-0.727964</td>\n",
       "      <td>0.767712</td>\n",
       "      <td>-0.775336</td>\n",
       "    </tr>\n",
       "    <tr>\n",
       "      <th>Total_Credit_Cards</th>\n",
       "      <td>1.862226</td>\n",
       "      <td>0.354365</td>\n",
       "      <td>-1.064153</td>\n",
       "      <td>0.410902</td>\n",
       "      <td>0.352756</td>\n",
       "    </tr>\n",
       "    <tr>\n",
       "      <th>Total_visits_bank</th>\n",
       "      <td>-1.105763</td>\n",
       "      <td>0.015664</td>\n",
       "      <td>-0.901888</td>\n",
       "      <td>1.286030</td>\n",
       "      <td>0.792563</td>\n",
       "    </tr>\n",
       "    <tr>\n",
       "      <th>Total_visits_online</th>\n",
       "      <td>2.226979</td>\n",
       "      <td>-0.675927</td>\n",
       "      <td>0.660066</td>\n",
       "      <td>-0.672684</td>\n",
       "      <td>-0.649179</td>\n",
       "    </tr>\n",
       "    <tr>\n",
       "      <th>Total_calls_made</th>\n",
       "      <td>-0.874330</td>\n",
       "      <td>-0.518866</td>\n",
       "      <td>1.161861</td>\n",
       "      <td>-0.569797</td>\n",
       "      <td>-0.569196</td>\n",
       "    </tr>\n",
       "  </tbody>\n",
       "</table>\n",
       "</div>"
      ],
      "text/plain": [
       "                            0         1         2         3         4\n",
       "Avg_Credit_Limit     1.966490  0.755767 -0.727964  0.767712 -0.775336\n",
       "Total_Credit_Cards   1.862226  0.354365 -1.064153  0.410902  0.352756\n",
       "Total_visits_bank   -1.105763  0.015664 -0.901888  1.286030  0.792563\n",
       "Total_visits_online  2.226979 -0.675927  0.660066 -0.672684 -0.649179\n",
       "Total_calls_made    -0.874330 -0.518866  1.161861 -0.569797 -0.569196"
      ]
     },
     "execution_count": 1577,
     "metadata": {},
     "output_type": "execute_result"
    }
   ],
   "source": [
    "\n",
    "\n",
    "# Find the centroid in each group\n",
    "centroids = kmeans.cluster_centers_\n",
    "centroid_df = pd.DataFrame(centroids, columns = list(cccd_kmeans) )\n",
    "centroid_df.transpose()"
   ]
  },
  {
   "cell_type": "code",
   "execution_count": 1578,
   "metadata": {},
   "outputs": [],
   "source": [
    "#Group 4 has the highest value for AVG_CREDIT_LIMIT and goup 0 has the lowest value\n",
    "#Group 4 has the highest value for Total_Credit_Cards and Group 3 has the lowest value\n",
    "#Group 2 has the highest value for the Total_visits_bank and group 4 has the lowest value\n",
    "#Group 4 has the highest value for Total_visits_online and group 1 has the lowest value \n",
    "#Group 3 has the highest value for the total calls made and group 2 has the lowest value "
   ]
  },
  {
   "cell_type": "code",
   "execution_count": 1579,
   "metadata": {},
   "outputs": [
    {
     "data": {
      "text/plain": [
       "Avg_Credit_Limit        float64\n",
       "Total_Credit_Cards        int64\n",
       "Total_visits_bank         int64\n",
       "Total_visits_online     float64\n",
       "Total_calls_made          int64\n",
       "group                  category\n",
       "dtype: object"
      ]
     },
     "execution_count": 1579,
     "metadata": {},
     "output_type": "execute_result"
    }
   ],
   "source": [
    "# Add cluster number to original cccd_kmeans data\n",
    "\n",
    "predictions = kmeans.predict(cccd_kmeans)\n",
    "predictions\n",
    "cccd[\"group\"] = predictions\n",
    "cccd['group'] = cccd['group'].astype('category')\n",
    "cccd.dtypes\n"
   ]
  },
  {
   "cell_type": "code",
   "execution_count": 1580,
   "metadata": {},
   "outputs": [
    {
     "data": {
      "text/plain": [
       "array([[<matplotlib.axes._subplots.AxesSubplot object at 0x7faa2a450a30>,\n",
       "        <matplotlib.axes._subplots.AxesSubplot object at 0x7faa2a50fac0>,\n",
       "        <matplotlib.axes._subplots.AxesSubplot object at 0x7faa2b464c40>,\n",
       "        <matplotlib.axes._subplots.AxesSubplot object at 0x7faa2b492f10>],\n",
       "       [<matplotlib.axes._subplots.AxesSubplot object at 0x7faa2b4c82b0>,\n",
       "        <matplotlib.axes._subplots.AxesSubplot object at 0x7faa2b4f4610>,\n",
       "        <matplotlib.axes._subplots.AxesSubplot object at 0x7faa2b5005b0>,\n",
       "        <matplotlib.axes._subplots.AxesSubplot object at 0x7faa2b52bd90>],\n",
       "       [<matplotlib.axes._subplots.AxesSubplot object at 0x7faa2b57bcd0>,\n",
       "        <matplotlib.axes._subplots.AxesSubplot object at 0x7faa2b5b2490>,\n",
       "        <matplotlib.axes._subplots.AxesSubplot object at 0x7faa2b5dcc10>,\n",
       "        <matplotlib.axes._subplots.AxesSubplot object at 0x7faa2ca023d0>]],\n",
       "      dtype=object)"
      ]
     },
     "execution_count": 1580,
     "metadata": {},
     "output_type": "execute_result"
    },
    {
     "data": {
      "image/png": "[encoded data removed]",
      "text/plain": [
       "<Figure size 1080x720 with 12 Axes>"
      ]
     },
     "metadata": {
      "needs_background": "light"
     },
     "output_type": "display_data"
    }
   ],
   "source": [
    "cccd_updated[\"group\"] = predictions\n",
    "cccd_updated.boxplot(by = 'group',  layout=(3,4), figsize=(15, 10))"
   ]
  },
  {
   "cell_type": "code",
   "execution_count": 1581,
   "metadata": {},
   "outputs": [],
   "source": [
    "#Group 4 ischaracterized by higher average credit limit, total credit cards and total visits online with lower total\n",
    "#total calls made and lower total visits bank \n",
    "\n",
    "#Group 3 is chracterized by highest total calls made \n",
    "#Group 0 is mostly characterized by higher total calls made but very few visits to the bank "
   ]
  },
  {
   "cell_type": "code",
   "execution_count": null,
   "metadata": {},
   "outputs": [],
   "source": []
  },
  {
   "cell_type": "code",
   "execution_count": 1582,
   "metadata": {},
   "outputs": [],
   "source": [
    "from sklearn.cluster import AgglomerativeClustering "
   ]
  },
  {
   "cell_type": "code",
   "execution_count": 1583,
   "metadata": {},
   "outputs": [],
   "source": [
    "from scipy.cluster.hierarchy import dendrogram, ward"
   ]
  },
  {
   "cell_type": "code",
   "execution_count": null,
   "metadata": {},
   "outputs": [],
   "source": []
  },
  {
   "cell_type": "code",
   "execution_count": 1584,
   "metadata": {},
   "outputs": [
    {
     "data": {
      "text/html": [
       "<div>\n",
       "<style scoped>\n",
       "    .dataframe tbody tr th:only-of-type {\n",
       "        vertical-align: middle;\n",
       "    }\n",
       "\n",
       "    .dataframe tbody tr th {\n",
       "        vertical-align: top;\n",
       "    }\n",
       "\n",
       "    .dataframe thead th {\n",
       "        text-align: right;\n",
       "    }\n",
       "</style>\n",
       "<table border=\"1\" class=\"dataframe\">\n",
       "  <thead>\n",
       "    <tr style=\"text-align: right;\">\n",
       "      <th></th>\n",
       "      <th>Avg_Credit_Limit</th>\n",
       "      <th>Total_Credit_Cards</th>\n",
       "      <th>Total_visits_bank</th>\n",
       "      <th>Total_visits_online</th>\n",
       "      <th>Total_calls_made</th>\n",
       "    </tr>\n",
       "  </thead>\n",
       "  <tbody>\n",
       "    <tr>\n",
       "      <th>0</th>\n",
       "      <td>1.630478</td>\n",
       "      <td>-1.249225</td>\n",
       "      <td>-0.860451</td>\n",
       "      <td>-1.001984</td>\n",
       "      <td>-1.251537</td>\n",
       "    </tr>\n",
       "    <tr>\n",
       "      <th>1</th>\n",
       "      <td>0.885387</td>\n",
       "      <td>-0.787585</td>\n",
       "      <td>-1.473731</td>\n",
       "      <td>2.158203</td>\n",
       "      <td>1.891859</td>\n",
       "    </tr>\n",
       "    <tr>\n",
       "      <th>2</th>\n",
       "      <td>0.885387</td>\n",
       "      <td>1.058973</td>\n",
       "      <td>-0.860451</td>\n",
       "      <td>0.505809</td>\n",
       "      <td>0.145528</td>\n",
       "    </tr>\n",
       "    <tr>\n",
       "      <th>3</th>\n",
       "      <td>0.336281</td>\n",
       "      <td>0.135694</td>\n",
       "      <td>-0.860451</td>\n",
       "      <td>-1.001984</td>\n",
       "      <td>0.145528</td>\n",
       "    </tr>\n",
       "    <tr>\n",
       "      <th>4</th>\n",
       "      <td>1.630478</td>\n",
       "      <td>0.597334</td>\n",
       "      <td>-1.473731</td>\n",
       "      <td>2.408431</td>\n",
       "      <td>-0.203739</td>\n",
       "    </tr>\n",
       "  </tbody>\n",
       "</table>\n",
       "</div>"
      ],
      "text/plain": [
       "   Avg_Credit_Limit  Total_Credit_Cards  Total_visits_bank  \\\n",
       "0          1.630478           -1.249225          -0.860451   \n",
       "1          0.885387           -0.787585          -1.473731   \n",
       "2          0.885387            1.058973          -0.860451   \n",
       "3          0.336281            0.135694          -0.860451   \n",
       "4          1.630478            0.597334          -1.473731   \n",
       "\n",
       "   Total_visits_online  Total_calls_made  \n",
       "0            -1.001984         -1.251537  \n",
       "1             2.158203          1.891859  \n",
       "2             0.505809          0.145528  \n",
       "3            -1.001984          0.145528  \n",
       "4             2.408431         -0.203739  "
      ]
     },
     "execution_count": 1584,
     "metadata": {},
     "output_type": "execute_result"
    }
   ],
   "source": [
    "cccd_agg.head()"
   ]
  },
  {
   "cell_type": "code",
   "execution_count": 1585,
   "metadata": {},
   "outputs": [],
   "source": [
    "from scipy.cluster.hierarchy import cophenet, dendrogram, linkage\n",
    "from scipy.spatial.distance import pdist"
   ]
  },
  {
   "cell_type": "code",
   "execution_count": 1586,
   "metadata": {},
   "outputs": [
    {
     "data": {
      "text/plain": [
       "0.8658695501958379"
      ]
     },
     "execution_count": 1586,
     "metadata": {},
     "output_type": "execute_result"
    }
   ],
   "source": [
    "Z = linkage(cccd_agg, metric='euclidean', method='average')\n",
    "c, coph_dists = cophenet(Z , pdist(cccd_agg))\n",
    "\n",
    "c\n"
   ]
  },
  {
   "cell_type": "code",
   "execution_count": 1596,
   "metadata": {},
   "outputs": [
    {
     "data": {
      "image/png": "[encoded data removed]",
      "text/plain": [
       "<Figure size 720x360 with 1 Axes>"
      ]
     },
     "metadata": {
      "needs_background": "light"
     },
     "output_type": "display_data"
    }
   ],
   "source": [
    "plt.figure(figsize=(10, 5))\n",
    "plt.title('Agglomerative Hierarchical Clustering Dendogram')\n",
    "plt.xlabel('sample index')\n",
    "plt.ylabel('Distance')\n",
    "dendrogram(Z,color_threshold = 40, leaf_font_size=8. )\n",
    "plt.tight_layout()"
   ]
  },
  {
   "cell_type": "code",
   "execution_count": 1588,
   "metadata": {},
   "outputs": [
    {
     "data": {
      "text/plain": [
       "0.8356322694421626"
      ]
     },
     "execution_count": 1588,
     "metadata": {},
     "output_type": "execute_result"
    }
   ],
   "source": [
    "Z = linkage(cccd_agg, metric='euclidean', method='complete')\n",
    "c, coph_dists = cophenet(Z , pdist(cccd_agg))\n",
    "\n",
    "c"
   ]
  },
  {
   "cell_type": "code",
   "execution_count": 1589,
   "metadata": {},
   "outputs": [
    {
     "data": {
      "image/png": "[encoded data removed]",
      "text/plain": [
       "<Figure size 720x360 with 1 Axes>"
      ]
     },
     "metadata": {
      "needs_background": "light"
     },
     "output_type": "display_data"
    }
   ],
   "source": [
    "plt.figure(figsize=(10, 5))\n",
    "plt.title('Agglomerative Hierarchical Clustering Dendogram')\n",
    "plt.xlabel('sample index')\n",
    "plt.ylabel('Distance')\n",
    "dendrogram(Z,color_threshold = 40, leaf_font_size=8. )\n",
    "plt.tight_layout()"
   ]
  },
  {
   "cell_type": "code",
   "execution_count": 1599,
   "metadata": {},
   "outputs": [
    {
     "data": {
      "text/plain": [
       "0.780002231073503"
      ]
     },
     "execution_count": 1599,
     "metadata": {},
     "output_type": "execute_result"
    }
   ],
   "source": [
    "Z = linkage(cccd_agg, metric='euclidean', method='ward')\n",
    "c, coph_dists = cophenet(Z , pdist(cccd_agg))\n",
    "c"
   ]
  },
  {
   "cell_type": "code",
   "execution_count": 1591,
   "metadata": {},
   "outputs": [
    {
     "data": {
      "image/png": "[encoded data removed]",
      "text/plain": [
       "<Figure size 720x360 with 1 Axes>"
      ]
     },
     "metadata": {
      "needs_background": "light"
     },
     "output_type": "display_data"
    }
   ],
   "source": [
    "plt.figure(figsize=(10, 5))\n",
    "plt.title('Agglomerative Hierarchical Clustering Dendogram')\n",
    "plt.xlabel('sample index')\n",
    "plt.ylabel('Distance')\n",
    "dendrogram(Z,color_threshold = 40, leaf_font_size=8. )\n",
    "plt.tight_layout()"
   ]
  },
  {
   "cell_type": "code",
   "execution_count": 1600,
   "metadata": {},
   "outputs": [],
   "source": [
    "#from above we can say average linkage is the best possible solution. "
   ]
  },
  {
   "cell_type": "code",
   "execution_count": 1601,
   "metadata": {},
   "outputs": [],
   "source": [
    "#from average linkage distance 6 can be categorized as the good cluster limit but to match kmeans I am choosing 6"
   ]
  },
  {
   "cell_type": "code",
   "execution_count": 1602,
   "metadata": {},
   "outputs": [],
   "source": [
    "model_agg = AgglomerativeClustering(n_clusters=5, affinity='euclidean',  linkage='average')"
   ]
  },
  {
   "cell_type": "code",
   "execution_count": 1603,
   "metadata": {},
   "outputs": [
    {
     "data": {
      "text/plain": [
       "AgglomerativeClustering(linkage='average', n_clusters=5)"
      ]
     },
     "execution_count": 1603,
     "metadata": {},
     "output_type": "execute_result"
    }
   ],
   "source": [
    "model_agg.fit(cccd_agg)"
   ]
  },
  {
   "cell_type": "code",
   "execution_count": null,
   "metadata": {},
   "outputs": [],
   "source": []
  },
  {
   "cell_type": "code",
   "execution_count": 1604,
   "metadata": {},
   "outputs": [
    {
     "data": {
      "text/html": [
       "<div>\n",
       "<style scoped>\n",
       "    .dataframe tbody tr th:only-of-type {\n",
       "        vertical-align: middle;\n",
       "    }\n",
       "\n",
       "    .dataframe tbody tr th {\n",
       "        vertical-align: top;\n",
       "    }\n",
       "\n",
       "    .dataframe thead th {\n",
       "        text-align: right;\n",
       "    }\n",
       "</style>\n",
       "<table border=\"1\" class=\"dataframe\">\n",
       "  <thead>\n",
       "    <tr style=\"text-align: right;\">\n",
       "      <th></th>\n",
       "      <th>Avg_Credit_Limit</th>\n",
       "      <th>Total_Credit_Cards</th>\n",
       "      <th>Total_visits_bank</th>\n",
       "      <th>Total_visits_online</th>\n",
       "      <th>Total_calls_made</th>\n",
       "      <th>labels</th>\n",
       "    </tr>\n",
       "  </thead>\n",
       "  <tbody>\n",
       "    <tr>\n",
       "      <th>0</th>\n",
       "      <td>1.630478</td>\n",
       "      <td>-1.249225</td>\n",
       "      <td>-0.860451</td>\n",
       "      <td>-1.001984</td>\n",
       "      <td>-1.251537</td>\n",
       "      <td>2</td>\n",
       "    </tr>\n",
       "    <tr>\n",
       "      <th>1</th>\n",
       "      <td>0.885387</td>\n",
       "      <td>-0.787585</td>\n",
       "      <td>-1.473731</td>\n",
       "      <td>2.158203</td>\n",
       "      <td>1.891859</td>\n",
       "      <td>4</td>\n",
       "    </tr>\n",
       "    <tr>\n",
       "      <th>2</th>\n",
       "      <td>0.885387</td>\n",
       "      <td>1.058973</td>\n",
       "      <td>-0.860451</td>\n",
       "      <td>0.505809</td>\n",
       "      <td>0.145528</td>\n",
       "      <td>1</td>\n",
       "    </tr>\n",
       "    <tr>\n",
       "      <th>3</th>\n",
       "      <td>0.336281</td>\n",
       "      <td>0.135694</td>\n",
       "      <td>-0.860451</td>\n",
       "      <td>-1.001984</td>\n",
       "      <td>0.145528</td>\n",
       "      <td>3</td>\n",
       "    </tr>\n",
       "    <tr>\n",
       "      <th>4</th>\n",
       "      <td>1.630478</td>\n",
       "      <td>0.597334</td>\n",
       "      <td>-1.473731</td>\n",
       "      <td>2.408431</td>\n",
       "      <td>-0.203739</td>\n",
       "      <td>1</td>\n",
       "    </tr>\n",
       "    <tr>\n",
       "      <th>5</th>\n",
       "      <td>-0.099569</td>\n",
       "      <td>-0.787585</td>\n",
       "      <td>-1.473731</td>\n",
       "      <td>-1.001984</td>\n",
       "      <td>1.542593</td>\n",
       "      <td>0</td>\n",
       "    </tr>\n",
       "    <tr>\n",
       "      <th>6</th>\n",
       "      <td>1.630478</td>\n",
       "      <td>0.135694</td>\n",
       "      <td>-1.473731</td>\n",
       "      <td>2.289012</td>\n",
       "      <td>-0.553005</td>\n",
       "      <td>1</td>\n",
       "    </tr>\n",
       "    <tr>\n",
       "      <th>7</th>\n",
       "      <td>-0.408809</td>\n",
       "      <td>-0.787585</td>\n",
       "      <td>-1.473731</td>\n",
       "      <td>-1.001984</td>\n",
       "      <td>-0.902271</td>\n",
       "      <td>2</td>\n",
       "    </tr>\n",
       "    <tr>\n",
       "      <th>8</th>\n",
       "      <td>-1.589750</td>\n",
       "      <td>-1.249225</td>\n",
       "      <td>-1.473731</td>\n",
       "      <td>-0.050673</td>\n",
       "      <td>-0.553005</td>\n",
       "      <td>0</td>\n",
       "    </tr>\n",
       "    <tr>\n",
       "      <th>9</th>\n",
       "      <td>-2.138856</td>\n",
       "      <td>-0.325946</td>\n",
       "      <td>-1.473731</td>\n",
       "      <td>-1.001984</td>\n",
       "      <td>1.193326</td>\n",
       "      <td>0</td>\n",
       "    </tr>\n",
       "  </tbody>\n",
       "</table>\n",
       "</div>"
      ],
      "text/plain": [
       "   Avg_Credit_Limit  Total_Credit_Cards  Total_visits_bank  \\\n",
       "0          1.630478           -1.249225          -0.860451   \n",
       "1          0.885387           -0.787585          -1.473731   \n",
       "2          0.885387            1.058973          -0.860451   \n",
       "3          0.336281            0.135694          -0.860451   \n",
       "4          1.630478            0.597334          -1.473731   \n",
       "5         -0.099569           -0.787585          -1.473731   \n",
       "6          1.630478            0.135694          -1.473731   \n",
       "7         -0.408809           -0.787585          -1.473731   \n",
       "8         -1.589750           -1.249225          -1.473731   \n",
       "9         -2.138856           -0.325946          -1.473731   \n",
       "\n",
       "   Total_visits_online  Total_calls_made  labels  \n",
       "0            -1.001984         -1.251537       2  \n",
       "1             2.158203          1.891859       4  \n",
       "2             0.505809          0.145528       1  \n",
       "3            -1.001984          0.145528       3  \n",
       "4             2.408431         -0.203739       1  \n",
       "5            -1.001984          1.542593       0  \n",
       "6             2.289012         -0.553005       1  \n",
       "7            -1.001984         -0.902271       2  \n",
       "8            -0.050673         -0.553005       0  \n",
       "9            -1.001984          1.193326       0  "
      ]
     },
     "execution_count": 1604,
     "metadata": {},
     "output_type": "execute_result"
    }
   ],
   "source": [
    "cccd_agg['labels'] = model_agg.labels_\n",
    "cccd_agg.head(10)"
   ]
  },
  {
   "cell_type": "code",
   "execution_count": 1605,
   "metadata": {},
   "outputs": [
    {
     "data": {
      "text/plain": [
       "array([[<matplotlib.axes._subplots.AxesSubplot object at 0x7faa2fb052b0>,\n",
       "        <matplotlib.axes._subplots.AxesSubplot object at 0x7faa2742a820>,\n",
       "        <matplotlib.axes._subplots.AxesSubplot object at 0x7faa15deaa60>],\n",
       "       [<matplotlib.axes._subplots.AxesSubplot object at 0x7faa17799310>,\n",
       "        <matplotlib.axes._subplots.AxesSubplot object at 0x7faa1958f820>,\n",
       "        <matplotlib.axes._subplots.AxesSubplot object at 0x7faa15f43610>],\n",
       "       [<matplotlib.axes._subplots.AxesSubplot object at 0x7faa1b06dca0>,\n",
       "        <matplotlib.axes._subplots.AxesSubplot object at 0x7faa1b0506a0>,\n",
       "        <matplotlib.axes._subplots.AxesSubplot object at 0x7faa21b1d310>],\n",
       "       [<matplotlib.axes._subplots.AxesSubplot object at 0x7faa20211c10>,\n",
       "        <matplotlib.axes._subplots.AxesSubplot object at 0x7faa2022c040>,\n",
       "        <matplotlib.axes._subplots.AxesSubplot object at 0x7faa1fd38700>],\n",
       "       [<matplotlib.axes._subplots.AxesSubplot object at 0x7faa1e939850>,\n",
       "        <matplotlib.axes._subplots.AxesSubplot object at 0x7faa1e685130>,\n",
       "        <matplotlib.axes._subplots.AxesSubplot object at 0x7faa1e6794c0>]],\n",
       "      dtype=object)"
      ]
     },
     "execution_count": 1605,
     "metadata": {},
     "output_type": "execute_result"
    },
    {
     "data": {
      "image/png": "[encoded data removed]",
      "text/plain": [
       "<Figure size 1080x720 with 15 Axes>"
      ]
     },
     "metadata": {
      "needs_background": "light"
     },
     "output_type": "display_data"
    }
   ],
   "source": [
    "cccd_agg.boxplot(by='labels',  layout=(5,3), figsize=(15, 10))"
   ]
  },
  {
   "cell_type": "code",
   "execution_count": 1606,
   "metadata": {},
   "outputs": [],
   "source": [
    "#Group 0 has high Avg credit limit max total creidt card less total calls made but max total visits to the bank\n",
    "\n",
    "#Group 1 has almost the same credit card average limit as group 0 but lower number of credit cards as compared to \n",
    "#Group 0 and lower number of calls made and max total vists to the bank \n",
    "\n",
    "#Group 2 has lower avg credit limit compared to group 0 and group 1 but more calls made compared to group 0and 1 \n",
    "\n",
    "\n",
    "\n",
    "\n"
   ]
  },
  {
   "cell_type": "code",
   "execution_count": 1607,
   "metadata": {},
   "outputs": [],
   "source": [
    "from sklearn.metrics import silhouette_score"
   ]
  },
  {
   "cell_type": "code",
   "execution_count": 1608,
   "metadata": {},
   "outputs": [],
   "source": [
    "cccd_agg.drop([\"labels\"],inplace=True,axis=1)"
   ]
  },
  {
   "cell_type": "code",
   "execution_count": 1609,
   "metadata": {},
   "outputs": [
    {
     "name": "stdout",
     "output_type": "stream",
     "text": [
      "0.36238828707888104\n"
     ]
    }
   ],
   "source": [
    "print(silhouette_score(cccd_agg, model_agg.fit_predict(cccd_agg)))"
   ]
  },
  {
   "cell_type": "code",
   "execution_count": 1610,
   "metadata": {},
   "outputs": [
    {
     "data": {
      "text/html": [
       "<div>\n",
       "<style scoped>\n",
       "    .dataframe tbody tr th:only-of-type {\n",
       "        vertical-align: middle;\n",
       "    }\n",
       "\n",
       "    .dataframe tbody tr th {\n",
       "        vertical-align: top;\n",
       "    }\n",
       "\n",
       "    .dataframe thead th {\n",
       "        text-align: right;\n",
       "    }\n",
       "</style>\n",
       "<table border=\"1\" class=\"dataframe\">\n",
       "  <thead>\n",
       "    <tr style=\"text-align: right;\">\n",
       "      <th></th>\n",
       "      <th>Avg_Credit_Limit</th>\n",
       "      <th>Total_Credit_Cards</th>\n",
       "      <th>Total_visits_bank</th>\n",
       "      <th>Total_visits_online</th>\n",
       "      <th>Total_calls_made</th>\n",
       "    </tr>\n",
       "  </thead>\n",
       "  <tbody>\n",
       "    <tr>\n",
       "      <th>0</th>\n",
       "      <td>1.630478</td>\n",
       "      <td>-1.249225</td>\n",
       "      <td>-0.860451</td>\n",
       "      <td>-1.001984</td>\n",
       "      <td>-1.251537</td>\n",
       "    </tr>\n",
       "    <tr>\n",
       "      <th>1</th>\n",
       "      <td>0.885387</td>\n",
       "      <td>-0.787585</td>\n",
       "      <td>-1.473731</td>\n",
       "      <td>2.158203</td>\n",
       "      <td>1.891859</td>\n",
       "    </tr>\n",
       "    <tr>\n",
       "      <th>2</th>\n",
       "      <td>0.885387</td>\n",
       "      <td>1.058973</td>\n",
       "      <td>-0.860451</td>\n",
       "      <td>0.505809</td>\n",
       "      <td>0.145528</td>\n",
       "    </tr>\n",
       "    <tr>\n",
       "      <th>3</th>\n",
       "      <td>0.336281</td>\n",
       "      <td>0.135694</td>\n",
       "      <td>-0.860451</td>\n",
       "      <td>-1.001984</td>\n",
       "      <td>0.145528</td>\n",
       "    </tr>\n",
       "    <tr>\n",
       "      <th>4</th>\n",
       "      <td>1.630478</td>\n",
       "      <td>0.597334</td>\n",
       "      <td>-1.473731</td>\n",
       "      <td>2.408431</td>\n",
       "      <td>-0.203739</td>\n",
       "    </tr>\n",
       "  </tbody>\n",
       "</table>\n",
       "</div>"
      ],
      "text/plain": [
       "   Avg_Credit_Limit  Total_Credit_Cards  Total_visits_bank  \\\n",
       "0          1.630478           -1.249225          -0.860451   \n",
       "1          0.885387           -0.787585          -1.473731   \n",
       "2          0.885387            1.058973          -0.860451   \n",
       "3          0.336281            0.135694          -0.860451   \n",
       "4          1.630478            0.597334          -1.473731   \n",
       "\n",
       "   Total_visits_online  Total_calls_made  \n",
       "0            -1.001984         -1.251537  \n",
       "1             2.158203          1.891859  \n",
       "2             0.505809          0.145528  \n",
       "3            -1.001984          0.145528  \n",
       "4             2.408431         -0.203739  "
      ]
     },
     "execution_count": 1610,
     "metadata": {},
     "output_type": "execute_result"
    }
   ],
   "source": [
    "cccd_kmeans.head()"
   ]
  },
  {
   "cell_type": "code",
   "execution_count": 1611,
   "metadata": {},
   "outputs": [
    {
     "name": "stdout",
     "output_type": "stream",
     "text": [
      "0.3507007736711299\n"
     ]
    }
   ],
   "source": [
    "print(silhouette_score(cccd_kmeans, kmeans.predict(cccd_kmeans)))"
   ]
  },
  {
   "cell_type": "code",
   "execution_count": 1612,
   "metadata": {},
   "outputs": [],
   "source": [
    "#we can see from the silhoutte_score with 5 clusters in AgglomerativeClustering is better than 5 clusters in kmeans"
   ]
  },
  {
   "cell_type": "code",
   "execution_count": null,
   "metadata": {},
   "outputs": [],
   "source": []
  },
  {
   "cell_type": "code",
   "execution_count": 1613,
   "metadata": {},
   "outputs": [
    {
     "data": {
      "text/plain": [
       "array([1, 2, 1, 1, 0, 2, 0, 1, 2, 2, 2, 2, 2, 2, 2, 2, 2, 2, 2, 2, 2, 2,\n",
       "       2, 2, 2, 2, 2, 2, 2, 2, 2, 2, 2, 2, 2, 2, 2, 2, 2, 2, 2, 2, 2, 2,\n",
       "       2, 2, 2, 2, 2, 2, 2, 2, 2, 2, 2, 2, 2, 2, 2, 2, 2, 2, 2, 2, 2, 2,\n",
       "       2, 2, 2, 2, 2, 2, 2, 2, 2, 2, 2, 2, 2, 2, 2, 2, 2, 2, 2, 2, 2, 2,\n",
       "       2, 2, 2, 2, 2, 2, 2, 2, 2, 2, 2, 2, 2, 2, 2, 2, 2, 2, 2, 2, 2, 2,\n",
       "       2, 2, 2, 2, 2, 2, 2, 2, 2, 2, 2, 2, 2, 2, 2, 2, 2, 2, 2, 2, 2, 2,\n",
       "       2, 2, 2, 2, 2, 2, 2, 2, 2, 2, 2, 2, 2, 2, 2, 2, 2, 2, 2, 2, 2, 2,\n",
       "       2, 2, 2, 2, 2, 2, 2, 2, 2, 2, 2, 2, 2, 2, 2, 2, 2, 2, 2, 2, 2, 2,\n",
       "       2, 2, 2, 2, 2, 2, 2, 2, 2, 2, 2, 2, 2, 2, 2, 2, 2, 2, 2, 2, 2, 2,\n",
       "       2, 2, 2, 2, 2, 2, 2, 2, 2, 2, 2, 2, 2, 2, 2, 2, 2, 2, 2, 2, 2, 2,\n",
       "       2, 2, 2, 2, 2, 2, 2, 2, 4, 4, 4, 4, 4, 4, 4, 4, 4, 4, 1, 4, 1, 4,\n",
       "       4, 4, 4, 4, 4, 4, 4, 4, 4, 1, 4, 1, 4, 4, 4, 4, 4, 4, 4, 4, 4, 4,\n",
       "       4, 4, 3, 4, 4, 4, 4, 4, 1, 4, 4, 1, 4, 4, 4, 4, 4, 4, 4, 4, 4, 4,\n",
       "       4, 1, 4, 4, 4, 4, 4, 4, 4, 4, 4, 4, 4, 4, 4, 4, 1, 4, 4, 3, 4, 4,\n",
       "       4, 4, 4, 4, 4, 4, 4, 4, 4, 4, 4, 4, 4, 4, 4, 4, 4, 4, 4, 4, 4, 4,\n",
       "       4, 4, 4, 4, 4, 3, 4, 4, 1, 4, 4, 4, 4, 4, 4, 4, 4, 4, 4, 4, 4, 4,\n",
       "       4, 4, 4, 4, 4, 4, 4, 4, 4, 4, 3, 4, 4, 4, 4, 4, 4, 4, 4, 4, 4, 4,\n",
       "       4, 4, 4, 1, 4, 4, 4, 1, 4, 4, 4, 4, 1, 4, 4, 4, 4, 4, 4, 1, 4, 4,\n",
       "       3, 1, 1, 1, 1, 3, 1, 1, 1, 1, 1, 3, 1, 1, 1, 3, 3, 3, 1, 1, 1, 3,\n",
       "       1, 3, 1, 3, 1, 1, 3, 1, 1, 3, 3, 3, 3, 3, 1, 1, 1, 3, 1, 1, 1, 3,\n",
       "       1, 1, 1, 3, 3, 3, 3, 1, 3, 1, 1, 3, 3, 3, 1, 1, 3, 1, 1, 3, 3, 3,\n",
       "       3, 3, 1, 3, 1, 3, 3, 1, 3, 1, 1, 1, 1, 3, 3, 3, 1, 1, 1, 1, 1, 3,\n",
       "       3, 1, 1, 3, 3, 3, 1, 3, 3, 1, 1, 1, 1, 1, 3, 3, 3, 1, 1, 1, 3, 1,\n",
       "       3, 1, 1, 3, 1, 1, 1, 1, 1, 3, 3, 1, 3, 1, 3, 1, 3, 1, 1, 3, 1, 1,\n",
       "       1, 1, 1, 1, 1, 1, 3, 3, 3, 1, 3, 3, 1, 3, 3, 1, 1, 3, 1, 3, 1, 3,\n",
       "       3, 1, 1, 3, 1, 3, 3, 3, 3, 3, 1, 3, 1, 3, 3, 3, 3, 1, 3, 3, 1, 1,\n",
       "       3, 1, 1, 1, 1, 1, 3, 1, 3, 3, 3, 1, 3, 3, 1, 1, 1, 3, 1, 1, 3, 3,\n",
       "       1, 3, 3, 3, 3, 1, 3, 3, 3, 1, 1, 1, 1, 1, 3, 1, 1, 3, 0, 0, 0, 0,\n",
       "       0, 0, 0, 0, 0, 0, 0, 0, 0, 0, 0, 0, 0, 0, 0, 0, 0, 0, 0, 0, 0, 0,\n",
       "       0, 0, 0, 0, 0, 0, 0, 0, 0, 0, 0, 0, 0, 0, 0, 0, 0, 0, 0, 0, 0, 0],\n",
       "      dtype=int32)"
      ]
     },
     "execution_count": 1613,
     "metadata": {},
     "output_type": "execute_result"
    }
   ],
   "source": [
    "kmeans_labels = kmeans.labels_\n",
    "kmeans_labels"
   ]
  },
  {
   "cell_type": "code",
   "execution_count": null,
   "metadata": {},
   "outputs": [],
   "source": [
    "\n"
   ]
  },
  {
   "cell_type": "code",
   "execution_count": 1614,
   "metadata": {},
   "outputs": [
    {
     "data": {
      "text/plain": [
       "array([2, 4, 1, 3, 1, 0, 1, 2, 0, 0, 0, 0, 0, 0, 0, 0, 0, 0, 0, 0, 0, 0,\n",
       "       0, 0, 0, 0, 0, 0, 0, 0, 0, 0, 0, 0, 0, 0, 0, 0, 0, 0, 0, 0, 0, 0,\n",
       "       0, 0, 0, 0, 0, 0, 0, 0, 0, 0, 0, 0, 0, 0, 0, 0, 0, 0, 0, 0, 0, 0,\n",
       "       0, 0, 0, 0, 0, 0, 0, 0, 0, 0, 0, 0, 0, 0, 0, 0, 0, 0, 0, 0, 0, 0,\n",
       "       0, 0, 0, 0, 0, 0, 0, 0, 0, 0, 0, 0, 0, 0, 0, 0, 0, 0, 0, 0, 0, 0,\n",
       "       0, 0, 0, 0, 0, 0, 0, 0, 0, 0, 0, 0, 0, 0, 0, 0, 0, 0, 0, 0, 0, 0,\n",
       "       0, 0, 0, 0, 0, 0, 0, 0, 0, 0, 0, 0, 0, 0, 0, 0, 0, 0, 0, 0, 0, 0,\n",
       "       0, 0, 0, 0, 0, 0, 0, 0, 0, 0, 0, 0, 0, 0, 0, 0, 0, 0, 0, 0, 0, 0,\n",
       "       0, 0, 0, 0, 0, 0, 0, 0, 0, 0, 0, 0, 0, 0, 0, 0, 0, 0, 0, 0, 0, 0,\n",
       "       0, 0, 0, 0, 0, 0, 0, 0, 0, 0, 0, 0, 0, 0, 0, 0, 0, 0, 0, 0, 0, 0,\n",
       "       0, 0, 0, 0, 0, 0, 0, 0, 3, 3, 3, 3, 3, 3, 3, 3, 3, 3, 3, 3, 3, 3,\n",
       "       3, 3, 3, 3, 3, 3, 3, 3, 3, 3, 3, 3, 3, 3, 3, 3, 3, 3, 3, 3, 3, 3,\n",
       "       3, 3, 3, 3, 3, 3, 3, 3, 3, 3, 3, 3, 3, 3, 3, 3, 3, 3, 3, 3, 3, 3,\n",
       "       3, 3, 0, 3, 3, 3, 3, 3, 3, 3, 3, 3, 3, 3, 3, 3, 3, 3, 3, 3, 3, 3,\n",
       "       3, 3, 3, 3, 3, 0, 3, 3, 3, 3, 3, 3, 3, 3, 3, 3, 3, 3, 3, 3, 3, 3,\n",
       "       3, 3, 3, 3, 3, 3, 3, 3, 3, 3, 3, 3, 3, 3, 3, 3, 3, 3, 3, 3, 3, 3,\n",
       "       3, 3, 3, 3, 3, 3, 3, 3, 3, 3, 3, 3, 3, 3, 3, 3, 3, 3, 3, 3, 3, 3,\n",
       "       3, 3, 3, 3, 3, 3, 3, 3, 3, 3, 3, 3, 3, 3, 3, 3, 3, 3, 3, 3, 3, 3,\n",
       "       3, 3, 3, 3, 3, 3, 3, 3, 3, 3, 3, 3, 3, 3, 3, 3, 3, 3, 3, 3, 3, 3,\n",
       "       3, 3, 3, 3, 3, 3, 3, 3, 3, 3, 3, 3, 3, 3, 3, 3, 3, 3, 3, 3, 3, 3,\n",
       "       3, 3, 3, 3, 3, 3, 3, 3, 3, 3, 3, 3, 3, 3, 3, 3, 3, 3, 3, 3, 3, 3,\n",
       "       3, 3, 3, 3, 3, 3, 3, 3, 3, 3, 3, 3, 3, 3, 3, 3, 3, 3, 3, 3, 3, 3,\n",
       "       3, 3, 3, 3, 3, 3, 3, 3, 3, 3, 3, 3, 3, 3, 3, 3, 3, 3, 3, 3, 3, 3,\n",
       "       3, 3, 3, 3, 3, 3, 3, 3, 3, 3, 3, 3, 3, 3, 3, 3, 3, 3, 3, 3, 3, 3,\n",
       "       3, 3, 3, 3, 3, 3, 3, 3, 3, 3, 3, 3, 3, 3, 3, 3, 3, 3, 3, 3, 3, 3,\n",
       "       3, 3, 3, 3, 3, 3, 3, 3, 3, 3, 3, 3, 3, 3, 3, 3, 3, 3, 3, 3, 3, 3,\n",
       "       3, 3, 3, 3, 3, 3, 3, 3, 3, 3, 3, 3, 3, 3, 3, 3, 3, 3, 3, 3, 3, 3,\n",
       "       3, 3, 3, 3, 3, 3, 3, 3, 3, 3, 3, 3, 3, 3, 3, 3, 3, 3, 1, 1, 1, 1,\n",
       "       1, 1, 1, 1, 1, 1, 1, 1, 1, 1, 1, 1, 1, 1, 1, 1, 1, 1, 1, 1, 1, 1,\n",
       "       1, 1, 1, 1, 1, 1, 1, 1, 1, 1, 1, 1, 1, 1, 1, 1, 1, 1, 1, 1, 1, 1])"
      ]
     },
     "execution_count": 1614,
     "metadata": {},
     "output_type": "execute_result"
    }
   ],
   "source": [
    "model_agg_labels = model_agg.labels_\n",
    "model_agg_labels"
   ]
  },
  {
   "cell_type": "code",
   "execution_count": 1488,
   "metadata": {},
   "outputs": [],
   "source": [
    "#Find the centroid of the agglomerative cluster"
   ]
  },
  {
   "cell_type": "code",
   "execution_count": 1615,
   "metadata": {},
   "outputs": [],
   "source": [
    "cccd_agg['labels'] = model_agg_labels"
   ]
  },
  {
   "cell_type": "code",
   "execution_count": 1616,
   "metadata": {},
   "outputs": [
    {
     "data": {
      "text/html": [
       "<div>\n",
       "<style scoped>\n",
       "    .dataframe tbody tr th:only-of-type {\n",
       "        vertical-align: middle;\n",
       "    }\n",
       "\n",
       "    .dataframe tbody tr th {\n",
       "        vertical-align: top;\n",
       "    }\n",
       "\n",
       "    .dataframe thead th {\n",
       "        text-align: right;\n",
       "    }\n",
       "</style>\n",
       "<table border=\"1\" class=\"dataframe\">\n",
       "  <thead>\n",
       "    <tr style=\"text-align: right;\">\n",
       "      <th></th>\n",
       "      <th>Avg_Credit_Limit</th>\n",
       "      <th>Total_Credit_Cards</th>\n",
       "      <th>Total_visits_bank</th>\n",
       "      <th>Total_visits_online</th>\n",
       "      <th>Total_calls_made</th>\n",
       "      <th>labels</th>\n",
       "    </tr>\n",
       "  </thead>\n",
       "  <tbody>\n",
       "    <tr>\n",
       "      <th>0</th>\n",
       "      <td>1.630478</td>\n",
       "      <td>-1.249225</td>\n",
       "      <td>-0.860451</td>\n",
       "      <td>-1.001984</td>\n",
       "      <td>-1.251537</td>\n",
       "      <td>2</td>\n",
       "    </tr>\n",
       "    <tr>\n",
       "      <th>1</th>\n",
       "      <td>0.885387</td>\n",
       "      <td>-0.787585</td>\n",
       "      <td>-1.473731</td>\n",
       "      <td>2.158203</td>\n",
       "      <td>1.891859</td>\n",
       "      <td>4</td>\n",
       "    </tr>\n",
       "    <tr>\n",
       "      <th>2</th>\n",
       "      <td>0.885387</td>\n",
       "      <td>1.058973</td>\n",
       "      <td>-0.860451</td>\n",
       "      <td>0.505809</td>\n",
       "      <td>0.145528</td>\n",
       "      <td>1</td>\n",
       "    </tr>\n",
       "    <tr>\n",
       "      <th>3</th>\n",
       "      <td>0.336281</td>\n",
       "      <td>0.135694</td>\n",
       "      <td>-0.860451</td>\n",
       "      <td>-1.001984</td>\n",
       "      <td>0.145528</td>\n",
       "      <td>3</td>\n",
       "    </tr>\n",
       "    <tr>\n",
       "      <th>4</th>\n",
       "      <td>1.630478</td>\n",
       "      <td>0.597334</td>\n",
       "      <td>-1.473731</td>\n",
       "      <td>2.408431</td>\n",
       "      <td>-0.203739</td>\n",
       "      <td>1</td>\n",
       "    </tr>\n",
       "  </tbody>\n",
       "</table>\n",
       "</div>"
      ],
      "text/plain": [
       "   Avg_Credit_Limit  Total_Credit_Cards  Total_visits_bank  \\\n",
       "0          1.630478           -1.249225          -0.860451   \n",
       "1          0.885387           -0.787585          -1.473731   \n",
       "2          0.885387            1.058973          -0.860451   \n",
       "3          0.336281            0.135694          -0.860451   \n",
       "4          1.630478            0.597334          -1.473731   \n",
       "\n",
       "   Total_visits_online  Total_calls_made  labels  \n",
       "0            -1.001984         -1.251537       2  \n",
       "1             2.158203          1.891859       4  \n",
       "2             0.505809          0.145528       1  \n",
       "3            -1.001984          0.145528       3  \n",
       "4             2.408431         -0.203739       1  "
      ]
     },
     "execution_count": 1616,
     "metadata": {},
     "output_type": "execute_result"
    }
   ],
   "source": [
    "cccd_agg.head()"
   ]
  },
  {
   "cell_type": "code",
   "execution_count": 1617,
   "metadata": {},
   "outputs": [
    {
     "data": {
      "text/plain": [
       "array([-0.73968359, -1.05670241, -0.89345225,  0.64697331,  1.14947227])"
      ]
     },
     "execution_count": 1617,
     "metadata": {},
     "output_type": "execute_result"
    }
   ],
   "source": [
    "c0 = cccd_agg[cccd_agg['labels']==0][['Avg_Credit_Limit','Total_Credit_Cards','Total_visits_bank','Total_visits_online','Total_calls_made']].mean().values\n",
    "c0"
   ]
  },
  {
   "cell_type": "code",
   "execution_count": 1618,
   "metadata": {},
   "outputs": [
    {
     "data": {
      "text/plain": [
       "array([ 1.94529187,  1.84647615, -1.10095265,  2.19323026, -0.85433262])"
      ]
     },
     "execution_count": 1618,
     "metadata": {},
     "output_type": "execute_result"
    }
   ],
   "source": [
    "c1 = cccd_agg[cccd_agg['labels']==1][['Avg_Credit_Limit','Total_Credit_Cards','Total_visits_bank','Total_visits_online','Total_calls_made']].mean().values\n",
    "c1"
   ]
  },
  {
   "cell_type": "code",
   "execution_count": 1619,
   "metadata": {},
   "outputs": [
    {
     "data": {
      "text/plain": [
       "array([ 0.61083406, -1.01840496, -1.1670907 , -1.00198355, -1.07690425])"
      ]
     },
     "execution_count": 1619,
     "metadata": {},
     "output_type": "execute_result"
    }
   ],
   "source": [
    "c2 = cccd_agg[cccd_agg['labels']==2][['Avg_Credit_Limit','Total_Credit_Cards','Total_visits_bank','Total_visits_online','Total_calls_made']].mean().values\n",
    "c2"
   ]
  },
  {
   "cell_type": "code",
   "execution_count": 1620,
   "metadata": {},
   "outputs": [
    {
     "data": {
      "text/plain": [
       "array([ 0.1661423 ,  0.37675914,  0.67675287, -0.66914889, -0.55482873])"
      ]
     },
     "execution_count": 1620,
     "metadata": {},
     "output_type": "execute_result"
    }
   ],
   "source": [
    "c3 = cccd_agg[cccd_agg['labels']==3][['Avg_Credit_Limit','Total_Credit_Cards','Total_visits_bank','Total_visits_online','Total_calls_made']].mean().values\n",
    "c3"
   ]
  },
  {
   "cell_type": "code",
   "execution_count": 1621,
   "metadata": {},
   "outputs": [
    {
     "data": {
      "text/plain": [
       "array([ 0.88538707, -0.78758515, -1.47373077,  2.15820318,  1.89185881])"
      ]
     },
     "execution_count": 1621,
     "metadata": {},
     "output_type": "execute_result"
    }
   ],
   "source": [
    "c4 = cccd_agg[cccd_agg['labels']==4][['Avg_Credit_Limit','Total_Credit_Cards','Total_visits_bank','Total_visits_online','Total_calls_made']].mean().values\n",
    "c4"
   ]
  },
  {
   "cell_type": "code",
   "execution_count": 1622,
   "metadata": {},
   "outputs": [
    {
     "data": {
      "text/plain": [
       "(660, 6)"
      ]
     },
     "execution_count": 1622,
     "metadata": {},
     "output_type": "execute_result"
    }
   ],
   "source": [
    "cccd_agg.shape"
   ]
  },
  {
   "cell_type": "code",
   "execution_count": 1623,
   "metadata": {},
   "outputs": [],
   "source": [
    "#The 5 clusters are divided in such a way "
   ]
  },
  {
   "cell_type": "code",
   "execution_count": 1624,
   "metadata": {},
   "outputs": [],
   "source": [
    "import pylab as pl"
   ]
  },
  {
   "cell_type": "code",
   "execution_count": 1625,
   "metadata": {},
   "outputs": [
    {
     "data": {
      "image/png": "[encoded data removed]",
      "text/plain": [
       "<Figure size 432x288 with 1 Axes>"
      ]
     },
     "metadata": {
      "needs_background": "light"
     },
     "output_type": "display_data"
    },
    {
     "data": {
      "image/png": "[encoded data removed]",
      "text/plain": [
       "<Figure size 432x288 with 1 Axes>"
      ]
     },
     "metadata": {
      "needs_background": "light"
     },
     "output_type": "display_data"
    },
    {
     "data": {
      "image/png": "[encoded data removed]",
      "text/plain": [
       "<Figure size 432x288 with 1 Axes>"
      ]
     },
     "metadata": {
      "needs_background": "light"
     },
     "output_type": "display_data"
    },
    {
     "data": {
      "image/png": "[encoded data removed]",
      "text/plain": [
       "<Figure size 432x288 with 1 Axes>"
      ]
     },
     "metadata": {
      "needs_background": "light"
     },
     "output_type": "display_data"
    }
   ],
   "source": [
    "features = ['Total_Credit_Cards','Total_visits_bank','Total_visits_online','Total_calls_made']\n",
    "for j in features:   \n",
    "    for i in range(0, cccd_agg.shape[0]):\n",
    "        if cccd_agg['labels'][i] == 0:\n",
    "            c0scatter = pl.scatter(cccd_agg['Avg_Credit_Limit'][i],cccd_agg[j][i],c='r',marker='x')\n",
    "        elif cccd_agg['labels'][i] == 1:\n",
    "            c1scatter = pl.scatter(cccd_agg['Avg_Credit_Limit'][i],cccd_agg[j][i],c='g',marker='+')\n",
    "        elif cccd_agg['labels'][i] == 2:\n",
    "            c2scatter = pl.scatter(cccd_agg['Avg_Credit_Limit'][i],cccd_agg[j][i],c='b',marker='*')\n",
    "        elif cccd_agg['labels'][i] == 3:\n",
    "            c3scatter = pl.scatter(cccd_agg['Avg_Credit_Limit'][i],cccd_agg[j][i],c='g',marker='_')\n",
    "        elif cccd_agg['labels'][i] == 4:\n",
    "            c4scatter = pl.scatter(cccd_agg['Avg_Credit_Limit'][i],cccd_agg[j][i],c='y',marker='^')\n",
    "    pl.legend([c0scatter,c1scatter,c2scatter,c3scatter,c4scatter], ['Group 1','Group 2','Group 3','Group 4','Group 5'])\n",
    "    pl.title('CCD Agg dataset with 5 clusters outcomes between Avg_Credit_Limit and {0}'.format(j))\n",
    "    pl.show()        "
   ]
  },
  {
   "cell_type": "code",
   "execution_count": 1626,
   "metadata": {},
   "outputs": [
    {
     "data": {
      "image/png": "[encoded data removed]",
      "text/plain": [
       "<Figure size 432x288 with 1 Axes>"
      ]
     },
     "metadata": {
      "needs_background": "light"
     },
     "output_type": "display_data"
    },
    {
     "data": {
      "image/png": "[encoded data removed]",
      "text/plain": [
       "<Figure size 432x288 with 1 Axes>"
      ]
     },
     "metadata": {
      "needs_background": "light"
     },
     "output_type": "display_data"
    },
    {
     "data": {
      "image/png": "[encoded data removed]",
      "text/plain": [
       "<Figure size 432x288 with 1 Axes>"
      ]
     },
     "metadata": {
      "needs_background": "light"
     },
     "output_type": "display_data"
    },
    {
     "data": {
      "image/png": "[encoded data removed]",
      "text/plain": [
       "<Figure size 432x288 with 1 Axes>"
      ]
     },
     "metadata": {
      "needs_background": "light"
     },
     "output_type": "display_data"
    }
   ],
   "source": [
    "features = ['Total_Credit_Cards','Total_visits_bank','Total_visits_online','Total_calls_made']\n",
    "for j in features:   \n",
    "    for i in range(0, cccd_kmeans.shape[0]):\n",
    "        if cccd_kmeans['labels'][i] == 0:\n",
    "            c0scatter = pl.scatter(cccd_kmeans['Avg_Credit_Limit'][i],cccd_kmeans[j][i],c='r',marker='x')\n",
    "        elif cccd_kmeans['labels'][i] == 1:\n",
    "            c1scatter = pl.scatter(cccd_kmeans['Avg_Credit_Limit'][i],cccd_kmeans[j][i],c='g',marker='+')\n",
    "        elif cccd_kmeans['labels'][i] == 2:\n",
    "            c2scatter = pl.scatter(cccd_kmeans['Avg_Credit_Limit'][i],cccd_kmeans[j][i],c='b',marker='*')\n",
    "        elif cccd_kmeans['labels'][i] == 3:\n",
    "            c3scatter = pl.scatter(cccd_kmeans['Avg_Credit_Limit'][i],cccd_kmeans[j][i],c='g',marker='_')\n",
    "        elif cccd_kmeans['labels'][i] == 4:\n",
    "            c4scatter = pl.scatter(cccd_kmeans['Avg_Credit_Limit'][i],cccd_kmeans[j][i],c='y',marker='^')\n",
    "    pl.legend([c0scatter,c1scatter,c2scatter,c3scatter,c4scatter], ['Group 1','Group 2','Group 3','Group 4','Group 5'])\n",
    "    pl.title('Kmeans dataset with 5 clusters outcomes between Avg_Credit_Limit and {0}'.format(j))\n",
    "    pl.show()  "
   ]
  },
  {
   "cell_type": "code",
   "execution_count": 1527,
   "metadata": {},
   "outputs": [],
   "source": [
    "#It seems both the clusters are almost identical "
   ]
  },
  {
   "cell_type": "code",
   "execution_count": 1528,
   "metadata": {},
   "outputs": [
    {
     "data": {
      "text/html": [
       "<div>\n",
       "<style scoped>\n",
       "    .dataframe tbody tr th:only-of-type {\n",
       "        vertical-align: middle;\n",
       "    }\n",
       "\n",
       "    .dataframe tbody tr th {\n",
       "        vertical-align: top;\n",
       "    }\n",
       "\n",
       "    .dataframe thead th {\n",
       "        text-align: right;\n",
       "    }\n",
       "</style>\n",
       "<table border=\"1\" class=\"dataframe\">\n",
       "  <thead>\n",
       "    <tr style=\"text-align: right;\">\n",
       "      <th></th>\n",
       "      <th>Avg_Credit_Limit</th>\n",
       "      <th>Total_Credit_Cards</th>\n",
       "      <th>Total_visits_bank</th>\n",
       "      <th>Total_visits_online</th>\n",
       "      <th>Total_calls_made</th>\n",
       "      <th>labels</th>\n",
       "    </tr>\n",
       "  </thead>\n",
       "  <tbody>\n",
       "    <tr>\n",
       "      <th>Avg_Credit_Limit</th>\n",
       "      <td>1.000000</td>\n",
       "      <td>0.586243</td>\n",
       "      <td>0.073937</td>\n",
       "      <td>0.104745</td>\n",
       "      <td>-0.466308</td>\n",
       "      <td>-0.526895</td>\n",
       "    </tr>\n",
       "    <tr>\n",
       "      <th>Total_Credit_Cards</th>\n",
       "      <td>0.586243</td>\n",
       "      <td>1.000000</td>\n",
       "      <td>0.315796</td>\n",
       "      <td>-0.061622</td>\n",
       "      <td>-0.651251</td>\n",
       "      <td>-0.729182</td>\n",
       "    </tr>\n",
       "    <tr>\n",
       "      <th>Total_visits_bank</th>\n",
       "      <td>0.073937</td>\n",
       "      <td>0.315796</td>\n",
       "      <td>1.000000</td>\n",
       "      <td>-0.632113</td>\n",
       "      <td>-0.506016</td>\n",
       "      <td>-0.422165</td>\n",
       "    </tr>\n",
       "    <tr>\n",
       "      <th>Total_visits_online</th>\n",
       "      <td>0.104745</td>\n",
       "      <td>-0.061622</td>\n",
       "      <td>-0.632113</td>\n",
       "      <td>1.000000</td>\n",
       "      <td>0.335119</td>\n",
       "      <td>0.221815</td>\n",
       "    </tr>\n",
       "    <tr>\n",
       "      <th>Total_calls_made</th>\n",
       "      <td>-0.466308</td>\n",
       "      <td>-0.651251</td>\n",
       "      <td>-0.506016</td>\n",
       "      <td>0.335119</td>\n",
       "      <td>1.000000</td>\n",
       "      <td>0.857518</td>\n",
       "    </tr>\n",
       "    <tr>\n",
       "      <th>labels</th>\n",
       "      <td>-0.526895</td>\n",
       "      <td>-0.729182</td>\n",
       "      <td>-0.422165</td>\n",
       "      <td>0.221815</td>\n",
       "      <td>0.857518</td>\n",
       "      <td>1.000000</td>\n",
       "    </tr>\n",
       "  </tbody>\n",
       "</table>\n",
       "</div>"
      ],
      "text/plain": [
       "                     Avg_Credit_Limit  Total_Credit_Cards  Total_visits_bank  \\\n",
       "Avg_Credit_Limit             1.000000            0.586243           0.073937   \n",
       "Total_Credit_Cards           0.586243            1.000000           0.315796   \n",
       "Total_visits_bank            0.073937            0.315796           1.000000   \n",
       "Total_visits_online          0.104745           -0.061622          -0.632113   \n",
       "Total_calls_made            -0.466308           -0.651251          -0.506016   \n",
       "labels                      -0.526895           -0.729182          -0.422165   \n",
       "\n",
       "                     Total_visits_online  Total_calls_made    labels  \n",
       "Avg_Credit_Limit                0.104745         -0.466308 -0.526895  \n",
       "Total_Credit_Cards             -0.061622         -0.651251 -0.729182  \n",
       "Total_visits_bank              -0.632113         -0.506016 -0.422165  \n",
       "Total_visits_online             1.000000          0.335119  0.221815  \n",
       "Total_calls_made                0.335119          1.000000  0.857518  \n",
       "labels                          0.221815          0.857518  1.000000  "
      ]
     },
     "execution_count": 1528,
     "metadata": {},
     "output_type": "execute_result"
    }
   ],
   "source": [
    "cccd_agg.corr()"
   ]
  },
  {
   "cell_type": "code",
   "execution_count": 1529,
   "metadata": {},
   "outputs": [
    {
     "data": {
      "text/html": [
       "<div>\n",
       "<style scoped>\n",
       "    .dataframe tbody tr th:only-of-type {\n",
       "        vertical-align: middle;\n",
       "    }\n",
       "\n",
       "    .dataframe tbody tr th {\n",
       "        vertical-align: top;\n",
       "    }\n",
       "\n",
       "    .dataframe thead th {\n",
       "        text-align: right;\n",
       "    }\n",
       "</style>\n",
       "<table border=\"1\" class=\"dataframe\">\n",
       "  <thead>\n",
       "    <tr style=\"text-align: right;\">\n",
       "      <th></th>\n",
       "      <th>Avg_Credit_Limit</th>\n",
       "      <th>Total_Credit_Cards</th>\n",
       "      <th>Total_visits_bank</th>\n",
       "      <th>Total_visits_online</th>\n",
       "      <th>Total_calls_made</th>\n",
       "      <th>labels</th>\n",
       "    </tr>\n",
       "  </thead>\n",
       "  <tbody>\n",
       "    <tr>\n",
       "      <th>Avg_Credit_Limit</th>\n",
       "      <td>1.000000</td>\n",
       "      <td>0.586243</td>\n",
       "      <td>0.073937</td>\n",
       "      <td>0.104745</td>\n",
       "      <td>-0.466308</td>\n",
       "      <td>-0.526895</td>\n",
       "    </tr>\n",
       "    <tr>\n",
       "      <th>Total_Credit_Cards</th>\n",
       "      <td>0.586243</td>\n",
       "      <td>1.000000</td>\n",
       "      <td>0.315796</td>\n",
       "      <td>-0.061622</td>\n",
       "      <td>-0.651251</td>\n",
       "      <td>-0.729182</td>\n",
       "    </tr>\n",
       "    <tr>\n",
       "      <th>Total_visits_bank</th>\n",
       "      <td>0.073937</td>\n",
       "      <td>0.315796</td>\n",
       "      <td>1.000000</td>\n",
       "      <td>-0.632113</td>\n",
       "      <td>-0.506016</td>\n",
       "      <td>-0.422165</td>\n",
       "    </tr>\n",
       "    <tr>\n",
       "      <th>Total_visits_online</th>\n",
       "      <td>0.104745</td>\n",
       "      <td>-0.061622</td>\n",
       "      <td>-0.632113</td>\n",
       "      <td>1.000000</td>\n",
       "      <td>0.335119</td>\n",
       "      <td>0.221815</td>\n",
       "    </tr>\n",
       "    <tr>\n",
       "      <th>Total_calls_made</th>\n",
       "      <td>-0.466308</td>\n",
       "      <td>-0.651251</td>\n",
       "      <td>-0.506016</td>\n",
       "      <td>0.335119</td>\n",
       "      <td>1.000000</td>\n",
       "      <td>0.857518</td>\n",
       "    </tr>\n",
       "    <tr>\n",
       "      <th>labels</th>\n",
       "      <td>-0.526895</td>\n",
       "      <td>-0.729182</td>\n",
       "      <td>-0.422165</td>\n",
       "      <td>0.221815</td>\n",
       "      <td>0.857518</td>\n",
       "      <td>1.000000</td>\n",
       "    </tr>\n",
       "  </tbody>\n",
       "</table>\n",
       "</div>"
      ],
      "text/plain": [
       "                     Avg_Credit_Limit  Total_Credit_Cards  Total_visits_bank  \\\n",
       "Avg_Credit_Limit             1.000000            0.586243           0.073937   \n",
       "Total_Credit_Cards           0.586243            1.000000           0.315796   \n",
       "Total_visits_bank            0.073937            0.315796           1.000000   \n",
       "Total_visits_online          0.104745           -0.061622          -0.632113   \n",
       "Total_calls_made            -0.466308           -0.651251          -0.506016   \n",
       "labels                      -0.526895           -0.729182          -0.422165   \n",
       "\n",
       "                     Total_visits_online  Total_calls_made    labels  \n",
       "Avg_Credit_Limit                0.104745         -0.466308 -0.526895  \n",
       "Total_Credit_Cards             -0.061622         -0.651251 -0.729182  \n",
       "Total_visits_bank              -0.632113         -0.506016 -0.422165  \n",
       "Total_visits_online             1.000000          0.335119  0.221815  \n",
       "Total_calls_made                0.335119          1.000000  0.857518  \n",
       "labels                          0.221815          0.857518  1.000000  "
      ]
     },
     "execution_count": 1529,
     "metadata": {},
     "output_type": "execute_result"
    }
   ],
   "source": [
    "cccd_kmeans.corr()"
   ]
  },
  {
   "cell_type": "markdown",
   "metadata": {},
   "source": [
    "Conclusion:\n",
    "    1.Three sets of customers. \n",
    "    2. \n",
    "      Customer with higher credit score and higher number of credit card. \n",
    "      Customer who like to visit the bank or call the bank to get the job done. \n",
    "      Customer while like to handle all the transaction online. \n",
    "    3.\n",
    "    From above we can confirm that people with hight avg_credit_limit tend to have more credit cards and also they like to visit or call bank less they like to handle there account online \n",
    "    For the customer with less available credit they do like to come to bank or call people. \n",
    "    If customer is visiting the bank more likely he would be not using the online services.\n",
    "    A new investement scheme which is suitable for the above average credit score and multiple credit card accounts should be marketed online.\n",
    "    A new investement scheme should not be marketable on the incoming calls. \n",
    "    \n",
    "    "
   ]
  }
 ],
 "metadata": {
  "kernelspec": {
   "display_name": "Python 3",
   "language": "python",
   "name": "python3"
  },
  "language_info": {
   "codemirror_mode": {
    "name": "ipython",
    "version": 3
   },
   "file_extension": ".py",
   "mimetype": "text/x-python",
   "name": "python",
   "nbconvert_exporter": "python",
   "pygments_lexer": "ipython3",
   "version": "3.8.3"
  }
 },
 "nbformat": 4,
 "nbformat_minor": 4
}
